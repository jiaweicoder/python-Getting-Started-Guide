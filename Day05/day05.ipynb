{
 "nbformat": 4,
 "nbformat_minor": 2,
 "metadata": {
  "language_info": {
   "name": "python",
   "codemirror_mode": {
    "name": "ipython",
    "version": 3
   },
   "version": "3.7.3-final"
  },
  "orig_nbformat": 2,
  "file_extension": ".py",
  "mimetype": "text/x-python",
  "name": "python",
  "npconvert_exporter": "python",
  "pygments_lexer": "ipython3",
  "version": 3,
  "kernelspec": {
   "name": "python37364bitbasecondaabad9ebff4c14cdbaa066c9205fa3975",
   "display_name": "Python 3.7.3 64-bit ('base': conda)"
  }
 },
 "cells": [
  {
   "cell_type": "markdown",
   "execution_count": null,
   "metadata": {},
   "outputs": [],
   "source": [
    "# Day 05 语句(一)"
   ]
  },
  {
   "cell_type": "markdown",
   "execution_count": null,
   "metadata": {},
   "outputs": [],
   "source": [
    "## 条件判断语句"
   ]
  },
  {
   "cell_type": "markdown",
   "execution_count": null,
   "metadata": {},
   "outputs": [],
   "source": [
    "#### 几个需要注意的地方\n",
    "\n",
    "* 条件判断通常使用if语句： if语句后面必须有“ ：”\n",
    "\n",
    "* Python中条件语句是通过一条或多条语句的执行结果（True或者False）来决定执行的代码块。\n",
    "\n",
    "* Python中判断语句的格式为： if 判断条件： 执行语句 else： 执行语句\n",
    "\n",
    "* Python中具有缩进的概念：\n",
    "\n",
    "* 1. 一般情况下会进行自动缩进\n",
    "\n",
    "* 2. if语句写完后，继续写其他内容需要退回原有缩进位置继续写\n",
    "\n",
    "* 3. Python中具有相同缩进的代码被视为代码块"
   ]
  },
  {
   "cell_type": "markdown",
   "execution_count": null,
   "metadata": {},
   "outputs": [],
   "source": [
    "## 1、基本的判断语句"
   ]
  },
  {
   "cell_type": "code",
   "execution_count": 1,
   "metadata": {},
   "outputs": [
    {
     "name": "stdout",
     "output_type": "stream",
     "text": "考试分数未及格\n"
    }
   ],
   "source": [
    "score = 52\n",
    "if score < 60:\n",
    "    print('考试分数未及格')"
   ]
  },
  {
   "cell_type": "code",
   "execution_count": 2,
   "metadata": {},
   "outputs": [
    {
     "name": "stdout",
     "output_type": "stream",
     "text": "Tom is late\nTom arrived after 12 o'clock\nTom是12点之后到的\n"
    }
   ],
   "source": [
    "name = 'Tom'\n",
    "n = 14\n",
    "if name == 'Tom':\n",
    "    print('Tom is late')\n",
    "    if n > 12:\n",
    "        print(\"Tom arrived after 12 o'clock\")\n",
    "        print('Tom是12点之后到的')"
   ]
  },
  {
   "cell_type": "markdown",
   "execution_count": null,
   "metadata": {},
   "outputs": [],
   "source": [
    "## 2、两种条件下的判断语句：if-else"
   ]
  },
  {
   "cell_type": "code",
   "execution_count": 3,
   "metadata": {},
   "outputs": [
    {
     "name": "stdout",
     "output_type": "stream",
     "text": "The language is Python\n"
    }
   ],
   "source": [
    "flag = False\n",
    "name = 'Python'\n",
    "if name == 'Python':                        # 判断变量否为'Python'\n",
    "    flag = True                             # 条件成立时设置标志为真\n",
    "    print( 'The language is Python')        # 并输出有关信息\n",
    "else:\n",
    "    print(name)                             # 条件不成立时输出变量名称"
   ]
  },
  {
   "cell_type": "markdown",
   "execution_count": null,
   "metadata": {},
   "outputs": [],
   "source": [
    "## 3、多种条件下的判断语句:if-elif-...-else"
   ]
  },
  {
   "cell_type": "code",
   "execution_count": 4,
   "metadata": {},
   "outputs": [
    {
     "name": "stdout",
     "output_type": "stream",
     "text": "这是一个管理员账户\n"
    }
   ],
   "source": [
    "password = 31415926\n",
    "if password == 3141592:                     # 判断password的值\n",
    "    print('这是一个高级账户')       \n",
    "elif password == 31415926:\n",
    "    print('这是一个管理员账户')\n",
    "elif password > 31415926:\n",
    "    print('这是一个普通用户账户')\n",
    "elif password < 0:\n",
    "    print('error')\n",
    "else:\n",
    "    print('这是一个未来可能被使用的账户')    # 条件均不成立时输出"
   ]
  },
  {
   "cell_type": "markdown",
   "execution_count": null,
   "metadata": {},
   "outputs": [],
   "source": [
    "## 4、单语句多条件下的判断语句：or和and"
   ]
  },
  {
   "cell_type": "code",
   "execution_count": 5,
   "metadata": {},
   "outputs": [
    {
     "name": "stdout",
     "output_type": "stream",
     "text": "b\n"
    }
   ],
   "source": [
    "n = 314\n",
    "m = 25\n",
    "if (n>34) and (m>99):\n",
    "    print('a')\n",
    "elif (n>34) and (m<99):\n",
    "    print('b')\n",
    "else:\n",
    "    print('c')"
   ]
  },
  {
   "cell_type": "code",
   "execution_count": 6,
   "metadata": {},
   "outputs": [
    {
     "name": "stdout",
     "output_type": "stream",
     "text": "Pass the exam\n"
    }
   ],
   "source": [
    "score1 = 92\n",
    "if score1 >= 60 and score1 <= 100:    \n",
    "    print( 'Pass the exam')\n",
    "# 判断值是否在0~59之间\n",
    "# 输出结果: Pass the exam"
   ]
  },
  {
   "cell_type": "code",
   "execution_count": 7,
   "metadata": {},
   "outputs": [
    {
     "name": "stdout",
     "output_type": "stream",
     "text": "Score is normal\n"
    }
   ],
   "source": [
    "score2 = 59\n",
    "if score2 < 0 or score2 > 100:    \n",
    "    print( 'Error')\n",
    "else:\n",
    "    print( 'Score is normal')\n",
    "# 判断值是否在小于0或大于100\n",
    "# 输出结果: Score is normal"
   ]
  },
  {
   "cell_type": "code",
   "execution_count": 8,
   "metadata": {},
   "outputs": [
    {
     "name": "stdout",
     "output_type": "stream",
     "text": "不确定\n"
    }
   ],
   "source": [
    "score3 = 87\n",
    "if (score3 >= 0 and score3 <= 60) or (score3 >= 90 and score3 <= 100):    \n",
    "    print( '考试分数没及格或者取得了较为优秀的成绩')\n",
    "else:\n",
    "    print( '不确定')\n",
    "# 判断值是否在0~60或者90~100之间\n",
    "# 输出结果: 不确定"
   ]
  }
 ]
}