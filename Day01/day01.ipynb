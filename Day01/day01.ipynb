{
 "nbformat": 4,
 "nbformat_minor": 2,
 "metadata": {
  "language_info": {
   "name": "python",
   "codemirror_mode": {
    "name": "ipython",
    "version": 3
   },
   "version": "3.7.3-final"
  },
  "orig_nbformat": 2,
  "file_extension": ".py",
  "mimetype": "text/x-python",
  "name": "python",
  "npconvert_exporter": "python",
  "pygments_lexer": "ipython3",
  "version": 3,
  "kernelspec": {
   "name": "python37364bitbasecondaabad9ebff4c14cdbaa066c9205fa3975",
   "display_name": "Python 3.7.3 64-bit ('base': conda)"
  }
 },
 "cells": [
  {
   "cell_type": "markdown",
   "execution_count": null,
   "metadata": {},
   "outputs": [],
   "source": [
    "# Day 01 数据类型和变量的一些基本知识"
   ]
  },
  {
   "cell_type": "markdown",
   "execution_count": null,
   "metadata": {},
   "outputs": [],
   "source": [
    "## 1、数据类型概述\n",
    "Python数据类型：numbers数字，string字符串，bool布尔型，list列表，tuple元祖，dici字典"
   ]
  },
  {
   "cell_type": "markdown",
   "execution_count": null,
   "metadata": {},
   "outputs": [],
   "source": [
    "### numbers数字主要有：int整型，float浮点型"
   ]
  },
  {
   "cell_type": "code",
   "execution_count": 1,
   "metadata": {},
   "outputs": [],
   "source": [
    "x1 = 6 # int整型\n",
    "x2 = 3.14 # float浮点型"
   ]
  },
  {
   "cell_type": "code",
   "execution_count": 2,
   "metadata": {},
   "outputs": [
    {
     "name": "stdout",
     "output_type": "stream",
     "text": "6 <class 'int'>\n3.14 <class 'float'>\n"
    }
   ],
   "source": [
    "# 函数type()，用于查看数据类型\n",
    "print(x1,type(x1))\n",
    "print(x2,type(x2))"
   ]
  },
  {
   "cell_type": "markdown",
   "execution_count": null,
   "metadata": {},
   "outputs": [],
   "source": [
    "### string字符串:由数字、字母、下划线组成的一串字符"
   ]
  },
  {
   "cell_type": "code",
   "execution_count": 3,
   "metadata": {},
   "outputs": [
    {
     "name": "stdout",
     "output_type": "stream",
     "text": "hello world <class 'str'>\n"
    }
   ],
   "source": [
    "x3 = \"hello world\"\n",
    "print(x3,type(x3))"
   ]
  },
  {
   "cell_type": "code",
   "execution_count": 4,
   "metadata": {},
   "outputs": [
    {
     "name": "stdout",
     "output_type": "stream",
     "text": "hello world\nhello world\nhello\nworld\nhello\nworld\n"
    }
   ],
   "source": [
    "# 注意标点符号要使用英文的，单引号(' ') 和双引号(\" \")一样，三引号(''' '''或\"\"\" \"\"\")可以表示多行形式的字符串\n",
    "print('hello world')\n",
    "print(\"hello world\")\n",
    "print('''hello\n",
    "world''')\n",
    "print(\"\"\"hello\n",
    "world\"\"\")"
   ]
  },
  {
   "cell_type": "markdown",
   "execution_count": null,
   "metadata": {},
   "outputs": [],
   "source": [
    "### bool布尔型：True，False，用于判断真假"
   ]
  },
  {
   "cell_type": "code",
   "execution_count": 5,
   "metadata": {},
   "outputs": [
    {
     "name": "stdout",
     "output_type": "stream",
     "text": "True <class 'bool'>\nFalse <class 'bool'>\n"
    }
   ],
   "source": [
    "x4 = True\n",
    "x5 = False\n",
    "print(x4,type(x4))\n",
    "print(x5,type(x5))"
   ]
  },
  {
   "cell_type": "code",
   "execution_count": 6,
   "metadata": {},
   "outputs": [
    {
     "name": "stdout",
     "output_type": "stream",
     "text": "True\nTrue\n10 <class 'int'>\n0 <class 'int'>\n"
    }
   ],
   "source": [
    "# True实际值为1，False实际值为0\n",
    "print(True == 1)\n",
    "print(False == 0)\n",
    "\n",
    "x6 = True * 10\n",
    "x7 = False * 10\n",
    "print(x6,type(x6))\n",
    "print(x7,type(x7))"
   ]
  },
  {
   "cell_type": "markdown",
   "execution_count": null,
   "metadata": {},
   "outputs": [],
   "source": [
    "### list列表:支持字符，数字，字符串和列表本身（即嵌套），列表内的对象有序，用[]表示列表"
   ]
  },
  {
   "cell_type": "code",
   "execution_count": 7,
   "metadata": {},
   "outputs": [
    {
     "name": "stdout",
     "output_type": "stream",
     "text": "[1, 'a', 3.14, 'hello', [1, 2, 3]] <class 'list'>\n1 <class 'int'>\na <class 'str'>\n[1, 2, 3] <class 'list'>\n"
    }
   ],
   "source": [
    "x8 = [1,'a',3.14,'hello',[1,2,3]]\n",
    "print(x8,type(x8))\n",
    "x9 = x8[0]\n",
    "x10 = x8[1]\n",
    "x11 = x8[-1]\n",
    "print(x9,type(x9))\n",
    "print(x10,type(x10))\n",
    "print(x11,type(x11))"
   ]
  },
  {
   "cell_type": "markdown",
   "execution_count": null,
   "metadata": {},
   "outputs": [],
   "source": [
    "### tuple元组:不能进行二次赋值，可以理解成元素不可改变的列表（只读列表），元组内的对象有序，用（）表示元组"
   ]
  },
  {
   "cell_type": "code",
   "execution_count": 8,
   "metadata": {},
   "outputs": [
    {
     "name": "stdout",
     "output_type": "stream",
     "text": "(0, 1, 2, 3, 'hello') <class 'tuple'>\n"
    }
   ],
   "source": [
    "x12 = (0,1,2,3,'hello')\n",
    "print(x12,type(x12))"
   ]
  },
  {
   "cell_type": "markdown",
   "execution_count": null,
   "metadata": {},
   "outputs": [],
   "source": [
    "### dict字典:由索引和它对应的值组成，字典内的对象无序，用{}表示字典"
   ]
  },
  {
   "cell_type": "code",
   "execution_count": 9,
   "metadata": {},
   "outputs": [
    {
     "name": "stdout",
     "output_type": "stream",
     "text": "{'name': 'xiaoming', 'score': 99.4, 'rate': 3} <class 'dict'>\nxiaoming <class 'str'>\n99.4 <class 'float'>\n3 <class 'int'>\n"
    }
   ],
   "source": [
    "x13 = {\"name\":\"xiaoming\", \"score\":99.4, \"rate\":3}\n",
    "print(x13,type(x13))\n",
    "x14 = x13[\"name\"]\n",
    "x15 = x13[\"score\"]\n",
    "x16 = x13[\"rate\"]\n",
    "print(x14,type(x14))\n",
    "print(x15,type(x15))\n",
    "print(x16,type(x16))"
   ]
  },
  {
   "cell_type": "markdown",
   "execution_count": null,
   "metadata": {},
   "outputs": [],
   "source": [
    "## 2、数据类型转换：这里主要以整型和浮点型之间的转换为主"
   ]
  },
  {
   "cell_type": "markdown",
   "execution_count": null,
   "metadata": {},
   "outputs": [],
   "source": [
    "### int(x)函数：将x转换为整型，round(x)函数：将x四舍五入"
   ]
  },
  {
   "cell_type": "code",
   "execution_count": 10,
   "metadata": {},
   "outputs": [
    {
     "name": "stdout",
     "output_type": "stream",
     "text": "3.14 <class 'float'>\n3 <class 'int'>\n3 <class 'int'>\n3.74 <class 'float'>\n3 <class 'int'>\n4 <class 'int'>\n"
    }
   ],
   "source": [
    "var1 = 3.14\n",
    "var2 = int(var1)\n",
    "var3 = round(var1)\n",
    "print(var1,type(var1))\n",
    "print(var2,type(var2))\n",
    "print(var3,type(var3))\n",
    "var4 = 3.74\n",
    "var5 = int(var4)\n",
    "var6 = round(var4)\n",
    "print(var4,type(var4))\n",
    "print(var5,type(var5))\n",
    "print(var6,type(var6))"
   ]
  },
  {
   "cell_type": "markdown",
   "execution_count": null,
   "metadata": {},
   "outputs": [],
   "source": [
    "### float(x)函数：将x转换为浮点型"
   ]
  },
  {
   "cell_type": "code",
   "execution_count": 11,
   "metadata": {},
   "outputs": [
    {
     "name": "stdout",
     "output_type": "stream",
     "text": "3 <class 'int'>\n3.0 <class 'float'>\n"
    }
   ],
   "source": [
    "var7 = 3\n",
    "var8 = float(var7)\n",
    "print(var7,type(var7))\n",
    "print(var8,type(var8))"
   ]
  },
  {
   "cell_type": "markdown",
   "execution_count": null,
   "metadata": {},
   "outputs": [],
   "source": [
    "### str(x)函数：将x转换为字符串"
   ]
  },
  {
   "cell_type": "code",
   "execution_count": 12,
   "metadata": {},
   "outputs": [
    {
     "name": "stdout",
     "output_type": "stream",
     "text": "3.14 <class 'str'>\n"
    }
   ],
   "source": [
    "var9 = 3.14\n",
    "var10 = str(var9)\n",
    "print(var10,type(var10))"
   ]
  },
  {
   "cell_type": "markdown",
   "execution_count": null,
   "metadata": {},
   "outputs": [],
   "source": [
    "### 关于bool型的一些转换"
   ]
  },
  {
   "cell_type": "code",
   "execution_count": 13,
   "metadata": {},
   "outputs": [
    {
     "name": "stdout",
     "output_type": "stream",
     "text": "True\nTrue\n"
    }
   ],
   "source": [
    "print(True>0)\n",
    "print(False<1)"
   ]
  },
  {
   "cell_type": "code",
   "execution_count": 14,
   "metadata": {},
   "outputs": [
    {
     "name": "stdout",
     "output_type": "stream",
     "text": "True True False True True False False\n"
    }
   ],
   "source": [
    "# bool()函数：将值转换为布尔型，其中只有以下情况bool()返回False：0, 0.0, None，''(空的字符串), [] (空的列表), {}(空的字典))\n",
    "print(bool(3.14),bool(4),bool(0),bool(-1),bool([1,2,3]),bool(0.0),bool(None))"
   ]
  },
  {
   "cell_type": "markdown",
   "execution_count": null,
   "metadata": {},
   "outputs": [],
   "source": [
    "## 3、变量"
   ]
  },
  {
   "cell_type": "markdown",
   "execution_count": null,
   "metadata": {},
   "outputs": [],
   "source": [
    "### 单变量赋值"
   ]
  },
  {
   "cell_type": "code",
   "execution_count": 15,
   "metadata": {},
   "outputs": [
    {
     "name": "stdout",
     "output_type": "stream",
     "text": "xiaoming\n88.4\n3\n"
    }
   ],
   "source": [
    "name = \"xiaoming\" #字符串\n",
    "score = 88.4 #浮点型\n",
    "rate = 3 #整型 \n",
    "print(name)\n",
    "print(score)\n",
    "print(rate)"
   ]
  },
  {
   "cell_type": "markdown",
   "execution_count": null,
   "metadata": {},
   "outputs": [],
   "source": [
    "### 多变量赋值"
   ]
  },
  {
   "cell_type": "code",
   "execution_count": 16,
   "metadata": {},
   "outputs": [
    {
     "name": "stdout",
     "output_type": "stream",
     "text": "3.14 3.14 3.14 3 hello world 1\n"
    }
   ],
   "source": [
    "y1 = y2 = y3 = 3.14\n",
    "y4 , y5 , y6 = 3 , 'hello world' , 1 \n",
    "print(y1,y2,y3,y4,y5,y6)"
   ]
  },
  {
   "cell_type": "markdown",
   "execution_count": null,
   "metadata": {},
   "outputs": [],
   "source": [
    "## 4、运算符"
   ]
  },
  {
   "cell_type": "markdown",
   "execution_count": null,
   "metadata": {},
   "outputs": [],
   "source": [
    "### 常见的算数运算符"
   ]
  },
  {
   "cell_type": "code",
   "execution_count": 17,
   "metadata": {},
   "outputs": [
    {
     "name": "stdout",
     "output_type": "stream",
     "text": "a除b为： 3.3333333333333335\na模b为： 1\na的b次方为： 1000\na除b取整为： 3\n"
    }
   ],
   "source": [
    "a, b = 10, 3\n",
    "c1 = a / b  # 除法\n",
    "print( \"a除b为：\", c1 )\n",
    " \n",
    "c2 = a % b  # 取模\n",
    "print( \"a模b为：\", c2)\n",
    " \n",
    "c3 = a**b   # 求幂\n",
    "print( \"a的b次方为：\", c3)\n",
    "\n",
    "c4 = a//b  # 取整 \n",
    "print( \"a除b取整为：\", c4)"
   ]
  },
  {
   "cell_type": "markdown",
   "execution_count": null,
   "metadata": {},
   "outputs": [],
   "source": [
    "### 比较运算符"
   ]
  },
  {
   "cell_type": "code",
   "execution_count": 18,
   "metadata": {},
   "outputs": [
    {
     "name": "stdout",
     "output_type": "stream",
     "text": "False\nTrue\nFalse\nTrue\nFalse\nTrue\n"
    }
   ],
   "source": [
    "a, b = 3, 4\n",
    "print(a == b)  # 等于\n",
    "print(a != b)  # 不等于\n",
    "print(a > b)  # 大于\n",
    "print(a < b)  # 小于\n",
    "print(a >= b)  # 大于等于\n",
    "print(a <= b)  # 小于等于"
   ]
  },
  {
   "cell_type": "markdown",
   "execution_count": null,
   "metadata": {},
   "outputs": [],
   "source": [
    "### 逻辑运算符"
   ]
  },
  {
   "cell_type": "code",
   "execution_count": 19,
   "metadata": {},
   "outputs": [
    {
     "name": "stdout",
     "output_type": "stream",
     "text": "False\nTrue\nFalse\nTrue\nTrue\nFalse\nFalse\nTrue\n"
    }
   ],
   "source": [
    "# and：且\n",
    "print(True and False)\n",
    "print(True and True)\n",
    "print(False and False)\n",
    "# or：或\n",
    "print(True or False)\n",
    "print(True or True)\n",
    "print(False or False)\n",
    "# not：非\n",
    "print(not True)\n",
    "print(not False)"
   ]
  },
  {
   "cell_type": "markdown",
   "execution_count": null,
   "metadata": {},
   "outputs": [],
   "source": [
    "### 成员运算符"
   ]
  },
  {
   "cell_type": "code",
   "execution_count": 20,
   "metadata": {},
   "outputs": [
    {
     "name": "stdout",
     "output_type": "stream",
     "text": "True\nFalse\nFalse\nTrue\n"
    }
   ],
   "source": [
    "lst = [0,1,2,3,4,5,6,8,9]\n",
    "a,b = 1,10\n",
    "# x in y , 如果 x 在 y 序列中返回 True。\n",
    "print(a in lst)\n",
    "print(b in lst)\n",
    "# x not in y , 如果 x 不在 y 序列中返回 True。  \n",
    "print(a not in lst)\n",
    "print(b not in lst)"
   ]
  }
 ]
}