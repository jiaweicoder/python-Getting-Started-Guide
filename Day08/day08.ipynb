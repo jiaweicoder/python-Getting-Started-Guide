{
 "nbformat": 4,
 "nbformat_minor": 2,
 "metadata": {
  "language_info": {
   "name": "python",
   "codemirror_mode": {
    "name": "ipython",
    "version": 3
   },
   "version": "3.7.3-final"
  },
  "orig_nbformat": 2,
  "file_extension": ".py",
  "mimetype": "text/x-python",
  "name": "python",
  "npconvert_exporter": "python",
  "pygments_lexer": "ipython3",
  "version": 3,
  "kernelspec": {
   "name": "python37364bitbasecondaabad9ebff4c14cdbaa066c9205fa3975",
   "display_name": "Python 3.7.3 64-bit ('base': conda)"
  }
 },
 "cells": [
  {
   "cell_type": "markdown",
   "execution_count": null,
   "metadata": {},
   "outputs": [],
   "source": [
    "# Day 08 模块与包的创建及使用"
   ]
  },
  {
   "cell_type": "markdown",
   "execution_count": null,
   "metadata": {},
   "outputs": [],
   "source": [
    "## 1、模块的定义"
   ]
  },
  {
   "cell_type": "markdown",
   "execution_count": null,
   "metadata": {},
   "outputs": [],
   "source": [
    "模块(Module)，是一个以“ .py”结尾的Python 文件，其中包含了对对象的定义和相关的语句"
   ]
  },
  {
   "cell_type": "markdown",
   "execution_count": null,
   "metadata": {},
   "outputs": [],
   "source": [
    "### 模块路径问题\n",
    "```python\n",
    "import xxx # xxx为模块的名字\n",
    "\n",
    "print(xxx.__file__) # 查看xxx模块(包)所在路径\n",
    "```"
   ]
  },
  {
   "cell_type": "markdown",
   "execution_count": null,
   "metadata": {},
   "outputs": [],
   "source": [
    "### 加载sys包，把新建模块或包所在的路径添加上\n",
    "```python\n",
    "import sys\n",
    "\n",
    "sys.path.append('X:/xxx/xxx/xxx/')\n",
    "```"
   ]
  },
  {
   "cell_type": "markdown",
   "execution_count": null,
   "metadata": {},
   "outputs": [],
   "source": [
    "### 简化模块名\n",
    "```python\n",
    "import xxxxxx as xxx\n",
    "\n",
    "#例如：\n",
    "\n",
    "import numpy as np\n",
    "\n",
    "import tensorflow as tf\n",
    "```"
   ]
  },
  {
   "cell_type": "markdown",
   "execution_count": null,
   "metadata": {},
   "outputs": [],
   "source": [
    "### 调用部分模块\n",
    "可以使用导入模块的部分功能，但无法使用未导入模块功能\n",
    "```python\n",
    "from xxxxxx import xxxxxx\n",
    "\n",
    "#例如：\n",
    "\n",
    "from matplotlib import pyplot\n",
    "\n",
    "from PyQt5 import QtCore\n",
    "```"
   ]
  },
  {
   "cell_type": "markdown",
   "execution_count": null,
   "metadata": {},
   "outputs": [],
   "source": [
    "## 2、Python中一些常用的模块"
   ]
  },
  {
   "cell_type": "markdown",
   "execution_count": null,
   "metadata": {},
   "outputs": [],
   "source": [
    "### 常用模块 —— random随机数"
   ]
  },
  {
   "cell_type": "code",
   "execution_count": 1,
   "metadata": {},
   "outputs": [],
   "source": [
    "import random"
   ]
  },
  {
   "cell_type": "code",
   "execution_count": 2,
   "metadata": {},
   "outputs": [
    {
     "name": "stdout",
     "output_type": "stream",
     "text": "0.07619233554334714 0.7619233554334714\n0.9817854210220129 9.81785421022013\n"
    }
   ],
   "source": [
    "# random.random()  随机生成一个[0:1)之间的随机数\n",
    "\n",
    "x = random.random()\n",
    "y = random.random()\n",
    "print(x,x*10)\n",
    "print(y,y*10)"
   ]
  },
  {
   "cell_type": "code",
   "execution_count": 3,
   "metadata": {},
   "outputs": [
    {
     "name": "stdout",
     "output_type": "stream",
     "text": "8\n"
    }
   ],
   "source": [
    "# random.randint()  随机生成一个[0:10]之间的整数\n",
    "\n",
    "m = random.randint(0,10)\n",
    "print(m)"
   ]
  },
  {
   "cell_type": "code",
   "execution_count": 4,
   "metadata": {},
   "outputs": [
    {
     "name": "stdout",
     "output_type": "stream",
     "text": "1 <class 'int'>\na <class 'str'>\n"
    }
   ],
   "source": [
    "# random.choice()  随机获取()中的一个元素，()中必须是一个有序的数据类型\n",
    "\n",
    "st1 = random.choice(list(range(10)))\n",
    "st2 = random.choice('abcdnehgjla')\n",
    "print(st1,type(st1))\n",
    "print(st2,type(st2))"
   ]
  },
  {
   "cell_type": "code",
   "execution_count": 5,
   "metadata": {},
   "outputs": [
    {
     "name": "stdout",
     "output_type": "stream",
     "text": "[0, 1, 2, 3, 4, 5, 6, 7, 8, 9, 10, 11, 12, 13, 14, 15, 16, 17, 18, 19]\n[9, 13, 4, 16, 18]\n"
    }
   ],
   "source": [
    "# random.sample(list,m)  随机获取list中指定m长度的片段，且不改变原list\n",
    "\n",
    "lst1 = list(range(20))\n",
    "sli = random.sample(lst1,5)\n",
    "print(lst1)\n",
    "print(sli)"
   ]
  },
  {
   "cell_type": "code",
   "execution_count": 6,
   "metadata": {},
   "outputs": [
    {
     "name": "stdout",
     "output_type": "stream",
     "text": "[8, 4, 2, 7, 6, 9, 3, 5, 0, 1]\n"
    }
   ],
   "source": [
    "# random.shuffle(list)  将一个list内的元素打乱，改变了原list\n",
    "\n",
    "lst2 = [0,1,2,3,4,5,6,7,8,9]\n",
    "random.shuffle(lst2)\n",
    "print(lst2)"
   ]
  },
  {
   "cell_type": "markdown",
   "execution_count": null,
   "metadata": {},
   "outputs": [],
   "source": [
    "### 常用模块 —— time时间模块"
   ]
  },
  {
   "cell_type": "code",
   "execution_count": 7,
   "metadata": {},
   "outputs": [],
   "source": [
    "import time"
   ]
  },
  {
   "cell_type": "code",
   "execution_count": 8,
   "metadata": {},
   "outputs": [
    {
     "name": "stdout",
     "output_type": "stream",
     "text": "hello world\nhello world\n"
    }
   ],
   "source": [
    "# time.sleep(m)  程序休息m秒\n",
    "\n",
    "for i in range(2):\n",
    "    print('hello world')\n",
    "    time.sleep(2)"
   ]
  },
  {
   "cell_type": "code",
   "execution_count": 9,
   "metadata": {},
   "outputs": [
    {
     "name": "stdout",
     "output_type": "stream",
     "text": "Thu Jan 30 20:47:47 2020\n<class 'str'>\n"
    }
   ],
   "source": [
    "# time.ctime()  将当前时间转换为一个字符串\n",
    "\n",
    "print(time.ctime())\n",
    "print(type(time.ctime()))"
   ]
  },
  {
   "cell_type": "code",
   "execution_count": 10,
   "metadata": {},
   "outputs": [
    {
     "name": "stdout",
     "output_type": "stream",
     "text": "time.struct_time(tm_year=2020, tm_mon=1, tm_mday=30, tm_hour=20, tm_min=47, tm_sec=47, tm_wday=3, tm_yday=30, tm_isdst=0)\n<class 'time.struct_time'>\n"
    }
   ],
   "source": [
    "# time.localtime()  时区转换\n",
    "\n",
    "print(time.localtime())\n",
    "print(type(time.localtime()))\n",
    "\n",
    "# 将当前时间转为在当前时区的struct_time\n",
    "# wday 0-6表示周日到周六\n",
    "# ydat 1-366 一年中的第几天\n",
    "# isdst 表示是否为夏令时，默认为-1"
   ]
  },
  {
   "cell_type": "code",
   "execution_count": 11,
   "metadata": {},
   "outputs": [
    {
     "name": "stdout",
     "output_type": "stream",
     "text": "2020-01-30 20:47:47\n"
    }
   ],
   "source": [
    "# time.strftime(a,b)  # 时间显示\n",
    "# a为格式化字符串的格式\n",
    "# b为时间戳，一般使用localtime()\n",
    "\n",
    "print(time.strftime('%Y-%m-%d %H:%M:%S',time.localtime()))\n",
    "\n",
    "#常用的格式化字符串的格式\n",
    "\n",
    "# %y 两位数的年份表示（00-99）\n",
    "# %Y 四位数的年份表示（000-9999）\n",
    "\n",
    "# %m 月份（01-12）\n",
    "\n",
    "# %d 月内中的一天（0-31）\n",
    "\n",
    "# %H 24小时制小时数（0-23）\n",
    "# %I 12小时制小时数（01-12）\n",
    "\n",
    "# %M 分钟数（00=59）\n",
    "# %S 秒（00-59）\n",
    "\n",
    "# %a 本地简化星期名称\n",
    "# %A 本地完整星期名称\n",
    "\n",
    "# %b 本地简化的月份名称\n",
    "# %B 本地完整的月份名称\n",
    "\n",
    "# %c 本地相应的日期表示和时间表示\n",
    "\n",
    "# %j 年内的一天（001-366）\n",
    "\n",
    "# %p 本地A.M.或P.M.的等价符\n",
    "\n",
    "# %w 星期（0-6），星期天为星期的开始\n",
    "# %U 一年中的星期数（00-53）星期天为星期的开始\n",
    "# %W 一年中的星期数（00-53）星期一为星期的开始\n",
    "\n",
    "# %x 本地相应的日期表示\n",
    "# %X 本地相应的时间表示\n",
    "\n",
    "# %Z 当前时区的名称\n",
    "\n",
    "# %% %号本身"
   ]
  }
 ]
}