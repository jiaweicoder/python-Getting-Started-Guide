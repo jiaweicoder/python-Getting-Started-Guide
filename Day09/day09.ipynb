{
 "nbformat": 4,
 "nbformat_minor": 2,
 "metadata": {
  "language_info": {
   "name": "python",
   "codemirror_mode": {
    "name": "ipython",
    "version": 3
   },
   "version": "3.7.3-final"
  },
  "orig_nbformat": 2,
  "file_extension": ".py",
  "mimetype": "text/x-python",
  "name": "python",
  "npconvert_exporter": "python",
  "pygments_lexer": "ipython3",
  "version": 3,
  "kernelspec": {
   "name": "python37364bitbasecondaabad9ebff4c14cdbaa066c9205fa3975",
   "display_name": "Python 3.7.3 64-bit ('base': conda)"
  }
 },
 "cells": [
  {
   "cell_type": "markdown",
   "execution_count": null,
   "metadata": {},
   "outputs": [],
   "source": [
    "# Day 09 科学计算库Numpy的基础数据结构"
   ]
  },
  {
   "cell_type": "markdown",
   "execution_count": null,
   "metadata": {},
   "outputs": [],
   "source": [
    "NumPy主要是一个用来进行数组相关的科学计算的工具包，其创建的数组是一个多维数组对象，称为ndarray。\n",
    "\n",
    "其由两部分组成：\n",
    "\n",
    "1. 实际的数据\n",
    "\n",
    "2. 描述这些实际数据的元数据"
   ]
  },
  {
   "cell_type": "markdown",
   "execution_count": null,
   "metadata": {},
   "outputs": [],
   "source": [
    "## 1、ndarray的数据类型"
   ]
  },
  {
   "cell_type": "markdown",
   "execution_count": null,
   "metadata": {},
   "outputs": [],
   "source": [
    "bool\t用一个字节存储的布尔类型（True或False）\n",
    "\n",
    "inti\t由所在平台决定其大小的整数（一般为int32或int64）\n",
    "\n",
    "int8\t一个字节大小，-128 至 127\n",
    "\n",
    "int16\t整数，-32768 至 32767\n",
    "\n",
    "int32\t整数，-2 ^ 31 至 2 ^ 32 -1\n",
    "\n",
    "int64\t整数，-2 ^ 63 至 2 ^ 63 - 1\n",
    "\n",
    "uint8\t无符号整数，0 至 255\n",
    "\n",
    "uint16\t无符号整数，0 至 65535\n",
    "\n",
    "uint32\t无符号整数，0 至 2 ^ 32 - 1\n",
    "\n",
    "uint64\t无符号整数，0 至 2 ^ 64 - 1\n",
    "\n",
    "float16\t半精度浮点数：16位，正负号1位，指数5位，精度10位\n",
    "\n",
    "float32\t单精度浮点数：32位，正负号1位，指数8位，精度23位\n",
    "\n",
    "float64或float\t双精度浮点数：64位，正负号1位，指数11位，精度52位\n",
    "\n",
    "complex64\t复数，分别用两个32位浮点数表示实部和虚部\n",
    "\n",
    "complex128或complex\t复数，分别用两个64位浮点数表示实部和虚部"
   ]
  },
  {
   "cell_type": "markdown",
   "execution_count": null,
   "metadata": {},
   "outputs": [],
   "source": [
    "## 2、多维数组ndarray的一些基本操作"
   ]
  },
  {
   "cell_type": "markdown",
   "execution_count": null,
   "metadata": {},
   "outputs": [],
   "source": [
    "数组的基本属性\n",
    "\n",
    "在NumPy中，每一个线性的数组称为是一个轴（axes），秩（rank）其实是描述轴的数量：\n",
    "\n",
    "比如说，二维数组相当于是两个一维数组，其中第一个一维数组中每个元素又是一个一维数组\n",
    "\n",
    "所以一维数组就是NumPy中的轴（axes），第一个轴（axes）相当于是底层数组，第二个轴是（axes）底层数组里的数组。\n",
    "\n",
    "而轴（axes）的数量——秩（rank），就是数组的维数。 "
   ]
  },
  {
   "cell_type": "code",
   "execution_count": 1,
   "metadata": {},
   "outputs": [],
   "source": [
    "import numpy as np"
   ]
  },
  {
   "cell_type": "code",
   "execution_count": 2,
   "metadata": {},
   "outputs": [],
   "source": [
    "ar = np.array([0,1,2,3,4,5,6,7,8,9])"
   ]
  },
  {
   "cell_type": "code",
   "execution_count": 3,
   "metadata": {},
   "outputs": [
    {
     "name": "stdout",
     "output_type": "stream",
     "text": "[0 1 2 3 4 5 6 7 8 9]\n"
    }
   ],
   "source": [
    "print(ar)\n",
    "# 输出数组\n",
    "# 注：数组的格式——有中括号，但元素之间没有逗号（和列表区分）"
   ]
  },
  {
   "cell_type": "code",
   "execution_count": 4,
   "metadata": {},
   "outputs": [
    {
     "name": "stdout",
     "output_type": "stream",
     "text": "1\n"
    }
   ],
   "source": [
    "print(ar.ndim)\n",
    "# 输出数组维度（轴数），或者说“秩”（rank）"
   ]
  },
  {
   "cell_type": "code",
   "execution_count": 5,
   "metadata": {},
   "outputs": [
    {
     "name": "stdout",
     "output_type": "stream",
     "text": "(10,)\n"
    }
   ],
   "source": [
    "print(ar.shape)\n",
    "# 输出数组的维度，对于n行m列的数组，shape为（n，m）"
   ]
  },
  {
   "cell_type": "code",
   "execution_count": 6,
   "metadata": {},
   "outputs": [
    {
     "name": "stdout",
     "output_type": "stream",
     "text": "10\n"
    }
   ],
   "source": [
    "print(ar.size)\n",
    "# 输出数组的元素总数，对于n行m列的数组，元素总数为n*m"
   ]
  },
  {
   "cell_type": "code",
   "execution_count": 7,
   "metadata": {},
   "outputs": [
    {
     "name": "stdout",
     "output_type": "stream",
     "text": "int32\n"
    }
   ],
   "source": [
    "print(ar.dtype)\n",
    "# 输出数组中元素的类型，类似type()\n",
    "# 注：type()是函数，.dtype是方法"
   ]
  },
  {
   "cell_type": "code",
   "execution_count": 8,
   "metadata": {},
   "outputs": [
    {
     "name": "stdout",
     "output_type": "stream",
     "text": "4\n"
    }
   ],
   "source": [
    "print(ar.itemsize)\n",
    "# 输出数组中每个元素的字节大小，其中int32类型的字节为4，float64类型的字节为8"
   ]
  },
  {
   "cell_type": "code",
   "execution_count": 9,
   "metadata": {},
   "outputs": [
    {
     "name": "stdout",
     "output_type": "stream",
     "text": "<memory at 0x000001DCE71C3348>\n"
    }
   ],
   "source": [
    "print(ar.data)\n",
    "# 包含实际数组元素的缓冲区，由于一般通过数组的索引获取元素，所以通常不需要使用这个属性"
   ]
  },
  {
   "cell_type": "code",
   "execution_count": 10,
   "metadata": {},
   "outputs": [
    {
     "data": {
      "text/plain": "array([0, 1, 2, 3, 4, 5, 6, 7, 8, 9])"
     },
     "execution_count": 10,
     "metadata": {},
     "output_type": "execute_result"
    }
   ],
   "source": [
    "ar\n",
    "# 交互方式下输出，会有array"
   ]
  },
  {
   "cell_type": "markdown",
   "execution_count": null,
   "metadata": {},
   "outputs": [],
   "source": [
    "## 3、创建数组的几种常见函数和方法"
   ]
  },
  {
   "cell_type": "markdown",
   "execution_count": null,
   "metadata": {},
   "outputs": [],
   "source": [
    "### array()函数，括号内可以是列表、元祖、数组、生成器等"
   ]
  },
  {
   "cell_type": "code",
   "execution_count": 11,
   "metadata": {},
   "outputs": [
    {
     "name": "stdout",
     "output_type": "stream",
     "text": "[0 1 2 3 4 5 6 7 8 9] <class 'numpy.ndarray'> int32\n[0.   1.   2.   3.14 4.   5.  ] <class 'numpy.ndarray'> float64\n[['1' '2' '3']\n ['a' 'b' 'c']] (2, 3) 2 6\n[list([1, 2, 3]) ('a', 'b', 'c', 'd')] (2,) 1 2\n"
    }
   ],
   "source": [
    "ar1 = np.array(range(10))                          # 整型\n",
    "ar2 = np.array([0,1,2,3.14,4,5])                   # 浮点型\n",
    "ar3 = np.array([ [1,2,3] , ('a','b','c') ])        # 二维数组：嵌套序列（列表，元祖均可）\n",
    "ar4 = np.array([ [1,2,3] , ('a','b','c','d') ])    # 注意嵌套序列数量不一会怎么样\n",
    "\n",
    "print(ar1,type(ar1),ar1.dtype)\n",
    "print(ar2,type(ar2),ar2.dtype)\n",
    "\n",
    "print(ar3,ar3.shape,ar3.ndim,ar3.size)             # 二维数组，共6个元素\n",
    "print(ar4,ar4.shape,ar4.ndim,ar4.size)             # 一维数组，共2个元素"
   ]
  },
  {
   "cell_type": "markdown",
   "execution_count": null,
   "metadata": {},
   "outputs": [],
   "source": [
    "### arange()，类似range()，在给定间隔区域内返回均匀间隔的值"
   ]
  },
  {
   "cell_type": "code",
   "execution_count": 12,
   "metadata": {},
   "outputs": [
    {
     "name": "stdout",
     "output_type": "stream",
     "text": "[0 1 2 3 4 5 6 7 8 9]\n[0. 1. 2. 3. 4. 5. 6. 7. 8. 9.]\n[ 3  4  5  6  7  8  9 10]\n[3. 5. 7. 9.]\n[   0    1    2 ... 9997 9998 9999]\n"
    }
   ],
   "source": [
    "print(np.arange(10))              # 返回0-9，整型\n",
    "print(np.arange(10.0))            # 返回0.0-9.0，浮点型\n",
    "print(np.arange(3,11))            # 返回3-10\n",
    "print(np.arange(3.0,11,2))        # 返回3.0-11.0（不取11.0），步长为2\n",
    "print(np.arange(10000))           # 如果数组太大而无法打印，NumPy会自动跳过数组的中心部分，并只打印边角："
   ]
  },
  {
   "cell_type": "markdown",
   "execution_count": null,
   "metadata": {},
   "outputs": [],
   "source": [
    "### linspace()，返回在间隔 $[开始，停止]$ 上计算的num个均匀间隔的样本"
   ]
  },
  {
   "cell_type": "code",
   "execution_count": 13,
   "metadata": {},
   "outputs": [
    {
     "name": "stdout",
     "output_type": "stream",
     "text": "[1.         1.08163265 1.16326531 1.24489796 1.32653061 1.40816327\n 1.48979592 1.57142857 1.65306122 1.73469388 1.81632653 1.89795918\n 1.97959184 2.06122449 2.14285714 2.2244898  2.30612245 2.3877551\n 2.46938776 2.55102041 2.63265306 2.71428571 2.79591837 2.87755102\n 2.95918367 3.04081633 3.12244898 3.20408163 3.28571429 3.36734694\n 3.44897959 3.53061224 3.6122449  3.69387755 3.7755102  3.85714286\n 3.93877551 4.02040816 4.10204082 4.18367347 4.26530612 4.34693878\n 4.42857143 4.51020408 4.59183673 4.67346939 4.75510204 4.83673469\n 4.91836735 5.        ] <class 'numpy.ndarray'>\n[1. 2. 3. 4. 5.] <class 'numpy.ndarray'>\n[1.  1.8 2.6 3.4 4.2] <class 'numpy.ndarray'>\n(array([1., 2., 3., 4., 5.]), 1.0) <class 'tuple'>\n"
    }
   ],
   "source": [
    "# numpy.linspace(start, stop, num=50, endpoint=True, retstep=False, dtype=None)\n",
    "# start：起始值，stop：结束值\n",
    "# num：生成样本数，默认为50\n",
    "# endpoint：如果为真，则停止是最后一个样本。否则，不包括在内。默认值为True。\n",
    "# retstep：如果为真，返回（样本，步骤），其中步长是样本之间的间距 → 输出为一个包含2个元素的元祖，第一个元素为array，第二个为步长实际值\n",
    "\n",
    "ar5 = np.linspace(1.0, 5.0)\n",
    "ar6 = np.linspace(1.0, 5.0, num=5)\n",
    "ar7 = np.linspace(1.0, 5.0, num=5, endpoint=False)\n",
    "ar8 = np.linspace(1.0, 5.0, num=5, retstep=True)\n",
    "print(ar5,type(ar5))\n",
    "print(ar6,type(ar6))\n",
    "print(ar7,type(ar7))\n",
    "print(ar8,type(ar8))"
   ]
  },
  {
   "cell_type": "markdown",
   "execution_count": null,
   "metadata": {},
   "outputs": [],
   "source": [
    "### zeros()/zeros_like()/ones()/ones_like()"
   ]
  },
  {
   "cell_type": "code",
   "execution_count": 14,
   "metadata": {},
   "outputs": [
    {
     "name": "stdout",
     "output_type": "stream",
     "text": "[0. 0. 0. 0. 0.] float64\n[[0 0 0 0]\n [0 0 0 0]\n [0 0 0 0]] int32\n"
    }
   ],
   "source": [
    "# numpy.zeros(shape, dtype=float, order='C'):返回给定形状和类型的新数组，用零填充。\n",
    "# shape：数组纬度，二维以上需要用()，且输入参数为整数\n",
    "# dtype：数据类型，默认numpy.float64\n",
    "# order：是否在存储器中以C或Fortran连续（按行或列方式）存储多维数据。\n",
    "\n",
    "ar9 = np.zeros(5)  \n",
    "ar10 = np.zeros((3,4), dtype = np.int)\n",
    "print(ar9,ar9.dtype)\n",
    "print(ar10,ar10.dtype)"
   ]
  },
  {
   "cell_type": "code",
   "execution_count": 15,
   "metadata": {},
   "outputs": [
    {
     "name": "stdout",
     "output_type": "stream",
     "text": "[[ 0  1  2  3  4  5  6  7  8  9]\n [10 11 12 13 14 15 16 17 18 19]] <class 'numpy.ndarray'>\n[[0 0 0 0 0 0 0 0 0 0]\n [0 0 0 0 0 0 0 0 0 0]] <class 'numpy.ndarray'>\n"
    }
   ],
   "source": [
    "# zeros_like():返回具有与给定数组相同的形状和类型的零数组，这里ar12根据ar11的形状和dtype创建一个全0的数组\n",
    "\n",
    "ar11 = np.array([ list(range(10)) , list(range(10,20)) ])\n",
    "ar12 = np.zeros_like(ar11)\n",
    "print(ar11,type(ar11))\n",
    "print(ar12,type(ar12))"
   ]
  },
  {
   "cell_type": "code",
   "execution_count": 16,
   "metadata": {},
   "outputs": [
    {
     "name": "stdout",
     "output_type": "stream",
     "text": "[[ 0  1  2  3  4  5  6  7  8  9]\n [10 11 12 13 14 15 16 17 18 19]]\n[1. 1. 1. 1. 1. 1. 1. 1. 1.]\n[[[1. 1. 1. 1. 1.]\n  [1. 1. 1. 1. 1.]\n  [1. 1. 1. 1. 1.]\n  [1. 1. 1. 1. 1.]]\n\n [[1. 1. 1. 1. 1.]\n  [1. 1. 1. 1. 1.]\n  [1. 1. 1. 1. 1.]\n  [1. 1. 1. 1. 1.]]\n\n [[1. 1. 1. 1. 1.]\n  [1. 1. 1. 1. 1.]\n  [1. 1. 1. 1. 1.]\n  [1. 1. 1. 1. 1.]]]\n[[1 1 1 1 1 1 1 1 1 1]\n [1 1 1 1 1 1 1 1 1 1]]\n"
    }
   ],
   "source": [
    "# ones()/ones_like():和zeros()/zeros_like()一样，只是填充的数字不是0，而是1\n",
    "\n",
    "ar13 = np.array([ list(range(10)) , list(range(10,20)) ])\n",
    "ar14 = np.ones(9)\n",
    "ar15 = np.ones((3,4,5))\n",
    "ar16 = np.ones_like(ar13)\n",
    "print(ar13)\n",
    "print(ar14)\n",
    "print(ar15)\n",
    "print(ar16)"
   ]
  },
  {
   "cell_type": "markdown",
   "execution_count": null,
   "metadata": {},
   "outputs": [],
   "source": [
    "### eye()，创建一个正方形的N*N的单位矩阵，对角线值为1，其余为0"
   ]
  },
  {
   "cell_type": "code",
   "execution_count": 17,
   "metadata": {},
   "outputs": [
    {
     "name": "stdout",
     "output_type": "stream",
     "text": "[[1. 0. 0. 0. 0. 0.]\n [0. 1. 0. 0. 0. 0.]\n [0. 0. 1. 0. 0. 0.]\n [0. 0. 0. 1. 0. 0.]\n [0. 0. 0. 0. 1. 0.]\n [0. 0. 0. 0. 0. 1.]]\n"
    }
   ],
   "source": [
    "print(np.eye(6))\n",
    "# 创建一个正方的6*6的单位矩阵，对角线值为1，其余为0"
   ]
  }
 ]
}