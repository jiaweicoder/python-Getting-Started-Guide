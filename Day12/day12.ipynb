{
 "nbformat": 4,
 "nbformat_minor": 2,
 "metadata": {
  "language_info": {
   "name": "python",
   "codemirror_mode": {
    "name": "ipython",
    "version": 3
   },
   "version": "3.7.3-final"
  },
  "orig_nbformat": 2,
  "file_extension": ".py",
  "mimetype": "text/x-python",
  "name": "python",
  "npconvert_exporter": "python",
  "pygments_lexer": "ipython3",
  "version": 3,
  "kernelspec": {
   "name": "python37364bitvirtualenv32be95ad933c47fbb78ccf01a5aa1a4d",
   "display_name": "Python 3.7.3 64-bit (virtualenv)"
  }
 },
 "cells": [
  {
   "cell_type": "markdown",
   "execution_count": null,
   "metadata": {},
   "outputs": [],
   "source": [
    "# Day 12 科学计算库Numpy的常用函数(一)"
   ]
  },
  {
   "cell_type": "code",
   "execution_count": 1,
   "metadata": {},
   "outputs": [],
   "source": [
    "import numpy as np\n",
    "# 导入模块"
   ]
  },
  {
   "cell_type": "markdown",
   "execution_count": null,
   "metadata": {},
   "outputs": [],
   "source": [
    "## 1、Numpy中数组形状的操作\n",
    "\n",
    ".T/.reshape()/.resize()"
   ]
  },
  {
   "cell_type": "markdown",
   "execution_count": null,
   "metadata": {},
   "outputs": [],
   "source": [
    "### .T方法：转置"
   ]
  },
  {
   "cell_type": "code",
   "execution_count": 2,
   "metadata": {},
   "outputs": [
    {
     "name": "stdout",
     "output_type": "stream",
     "text": "[0 1 2 3 4 5 6 7 8 9] \n [0 1 2 3 4 5 6 7 8 9]\n[[1. 1.]\n [1. 1.]\n [1. 1.]\n [1. 1.]\n [1. 1.]] \n [[1. 1. 1. 1. 1.]\n [1. 1. 1. 1. 1.]]\n"
    }
   ],
   "source": [
    "# 例如：原shape为(3,4)，转置结果为(4,3) ； 原shape为(2,3,4)，转置结果为(4,3,2)\n",
    "# 一维数组转置后结果不变\n",
    "\n",
    "ar1 = np.arange(10)\n",
    "ar2 = np.ones((5,2))\n",
    "print(ar1,'\\n',ar1.T)\n",
    "print(ar2,'\\n',ar2.T)"
   ]
  },
  {
   "cell_type": "markdown",
   "execution_count": null,
   "metadata": {},
   "outputs": [],
   "source": [
    "### .reshape方法：改变形状"
   ]
  },
  {
   "cell_type": "code",
   "execution_count": 3,
   "metadata": {},
   "outputs": [
    {
     "name": "stdout",
     "output_type": "stream",
     "text": "[0 1 2 3 4 5 6 7 8 9] \n [[0 1 2 3 4]\n [5 6 7 8 9]]\n"
    }
   ],
   "source": [
    "# 用法1：直接将已有数组改变形状\n",
    "\n",
    "ar3 = np.arange(10)\n",
    "ar4 = ar3.reshape(2,5)\n",
    "print(ar3,'\\n',ar4)"
   ]
  },
  {
   "cell_type": "code",
   "execution_count": 5,
   "metadata": {},
   "outputs": [
    {
     "name": "stdout",
     "output_type": "stream",
     "text": "[[0. 0. 0. 0. 0. 0. 0. 0.]\n [0. 0. 0. 0. 0. 0. 0. 0.]\n [0. 0. 0. 0. 0. 0. 0. 0.]]\n"
    }
   ],
   "source": [
    "# 用法2：生成数组后直接改变形状\n",
    "\n",
    "ar5 = np.zeros((4,6)).reshape(3,8)\n",
    "print(ar5)"
   ]
  },
  {
   "cell_type": "code",
   "execution_count": 4,
   "metadata": {},
   "outputs": [
    {
     "name": "stdout",
     "output_type": "stream",
     "text": "[[ 0  1  2  3]\n [ 4  5  6  7]\n [ 8  9 10 11]]\n"
    }
   ],
   "source": [
    "# 用法3：参数内添加数组，目标形状\n",
    "\n",
    "ar6 = np.reshape(np.arange(12),(3,4))\n",
    "print(ar6)"
   ]
  },
  {
   "cell_type": "markdown",
   "execution_count": null,
   "metadata": {},
   "outputs": [],
   "source": [
    "### .resize方法：改变形状，生成新数组"
   ]
  },
  {
   "cell_type": "code",
   "execution_count": 6,
   "metadata": {},
   "outputs": [
    {
     "name": "stdout",
     "output_type": "stream",
     "text": "[[0 1 2 3]\n [4 0 1 2]\n [3 4 0 1]]\n"
    }
   ],
   "source": [
    "# numpy.resize(a, new_shape)：返回具有指定形状的新数组，如有必要可重复填充所需数量的元素\n",
    "\n",
    "ar7 = np.resize(np.arange(5),(3,4))\n",
    "print(ar7)"
   ]
  },
  {
   "cell_type": "markdown",
   "execution_count": null,
   "metadata": {},
   "outputs": [],
   "source": [
    "注：\n",
    "\n",
    "numpy.reshape(a, newshape, order='C')：为数组提供新形状，而不更改其数据，所以元素数量需要一致\n",
    "\n",
    ".T/.reshape()/.resize()都是生成新的数组"
   ]
  },
  {
   "cell_type": "markdown",
   "execution_count": null,
   "metadata": {},
   "outputs": [],
   "source": [
    "## 2、Numpy中数组的复制"
   ]
  },
  {
   "cell_type": "code",
   "execution_count": 7,
   "metadata": {},
   "outputs": [
    {
     "name": "stdout",
     "output_type": "stream",
     "text": "True\n[0 1 9 3 4 5 6 7 8 9]\n[0 1 9 3 4 5 6 7 8 9]\n"
    }
   ],
   "source": [
    "ar8 = np.arange(10)\n",
    "ar9 = ar8\n",
    "print(ar9 is ar8)\n",
    "ar8[2] = 9\n",
    "print(ar8)\n",
    "print(ar9)\n",
    "# python的赋值逻辑：指向内存中生成的一个值:这里ar8和ar9指向同一个值，所以ar8改变，ar9一起改变"
   ]
  },
  {
   "cell_type": "code",
   "execution_count": 8,
   "metadata": {},
   "outputs": [
    {
     "name": "stdout",
     "output_type": "stream",
     "text": "False\n[9 1 2 3 4 5 6 7 8 9]\n[0 1 2 3 4 5 6 7 8 9]\n"
    }
   ],
   "source": [
    "ar10 = np.arange(10)\n",
    "ar11 = ar10.copy()\n",
    "print(ar11 is ar10)\n",
    "ar10[0] = 9\n",
    "print(ar10)\n",
    "print(ar11)\n",
    "# .copy方法生成数组及其数据的完整拷贝:ar10改变，ar11不一起改变"
   ]
  },
  {
   "cell_type": "markdown",
   "execution_count": null,
   "metadata": {},
   "outputs": [],
   "source": [
    "## 3、Numpy中数组类型转换：.astype()"
   ]
  },
  {
   "cell_type": "code",
   "execution_count": 9,
   "metadata": {},
   "outputs": [
    {
     "name": "stdout",
     "output_type": "stream",
     "text": "[0. 1. 2. 3. 4. 5. 6. 7. 8. 9.] float64\n"
    }
   ],
   "source": [
    "# 可以在参数位置设置数组类型\n",
    "ar12 = np.arange(10,dtype=float)\n",
    "print(ar12,ar12.dtype)"
   ]
  },
  {
   "cell_type": "code",
   "execution_count": 10,
   "metadata": {},
   "outputs": [
    {
     "name": "stdout",
     "output_type": "stream",
     "text": "[0. 1. 2. 3. 4. 5. 6. 7. 8. 9.] float64\n[0 1 2 3 4 5 6 7 8 9] int32\n"
    }
   ],
   "source": [
    "# a.astype()：转换数组类型\n",
    "ar13 = np.arange(10,dtype=float)\n",
    "ar14 = ar13.astype(np.int32)\n",
    "print(ar13,ar13.dtype)\n",
    "print(ar14,ar14.dtype)\n",
    "# 注意：数组类型用np.int32，而不是直接int32"
   ]
  }
 ]
}