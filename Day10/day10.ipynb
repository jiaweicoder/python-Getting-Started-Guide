{
 "nbformat": 4,
 "nbformat_minor": 2,
 "metadata": {
  "language_info": {
   "name": "python",
   "codemirror_mode": {
    "name": "ipython",
    "version": 3
   },
   "version": "3.7.3-final"
  },
  "orig_nbformat": 2,
  "file_extension": ".py",
  "mimetype": "text/x-python",
  "name": "python",
  "npconvert_exporter": "python",
  "pygments_lexer": "ipython3",
  "version": 3,
  "kernelspec": {
   "name": "python37364bitvirtualenv32be95ad933c47fbb78ccf01a5aa1a4d",
   "display_name": "Python 3.7.3 64-bit (virtualenv)"
  }
 },
 "cells": [
  {
   "cell_type": "markdown",
   "execution_count": null,
   "metadata": {},
   "outputs": [],
   "source": [
    "# Day 10 科学计算库Numpy的索引与切片"
   ]
  },
  {
   "cell_type": "code",
   "execution_count": 1,
   "metadata": {},
   "outputs": [],
   "source": [
    "# 导入模块\n",
    "\n",
    "import numpy as np"
   ]
  },
  {
   "cell_type": "markdown",
   "execution_count": null,
   "metadata": {},
   "outputs": [],
   "source": [
    "## 1、Numpy中基本索引与切片"
   ]
  },
  {
   "cell_type": "code",
   "execution_count": 2,
   "metadata": {},
   "outputs": [
    {
     "name": "stdout",
     "output_type": "stream",
     "text": "[0 1 2 3 4 5 6 7 8 9]\n5\n[3 4 5 6 7]\n"
    }
   ],
   "source": [
    "# 一维数组的索引与切片\n",
    "\n",
    "ar1 = np.arange(10)\n",
    "print(ar1)\n",
    "print(ar1[5])\n",
    "print(ar1[3:8])"
   ]
  },
  {
   "cell_type": "code",
   "execution_count": 3,
   "metadata": {},
   "outputs": [
    {
     "name": "stdout",
     "output_type": "stream",
     "text": "[[ 0  1  2  3]\n [ 4  5  6  7]\n [ 8  9 10 11]\n [12 13 14 15]] 数组轴数为2\n---------------------------\n[ 8  9 10 11] 数组轴数为1\n---------------------------\n9\n---------------------------\n[[ 4  5  6  7]\n [ 8  9 10 11]] 数组轴数为2\n---------------------------\n10\n---------------------------\n[[1 2 3]\n [5 6 7]]\n"
    }
   ],
   "source": [
    "# 二维数组的索引与切片\n",
    "\n",
    "ar2 = np.arange(16).reshape(4,4)\n",
    "print(ar2, '数组轴数为%i' %ar2.ndim)              # 显示4*4的数组，并显示数组的轴数\n",
    "print('---------------------------')\n",
    "print(ar2[2],  '数组轴数为%i' %ar2[2].ndim)      # 一次索引，相当于切片，将原数组降维，所以这里是一个一维数组\n",
    "print('---------------------------')\n",
    "print(ar2[2][1])                                # 二次索引，则再得到一维数组中的一个值\n",
    "print('---------------------------')\n",
    "print(ar2[1:3],  '数组轴数为%i' %ar2[1:3].ndim)   # 切片选取其中的两个一维数组组成一个二维数组\n",
    "print('---------------------------')\n",
    "print(ar2[2,2])                                 # 切片数组中的第三行第三列是10\n",
    "print('---------------------------')\n",
    "print(ar2[:2,1:])                               # 切片取出数组中的1,2行、2,3,4列来组成二维数组"
   ]
  },
  {
   "cell_type": "code",
   "execution_count": 4,
   "metadata": {},
   "outputs": [
    {
     "name": "stdout",
     "output_type": "stream",
     "text": "[[[0 1]\n  [2 3]]\n\n [[4 5]\n  [6 7]]] 数组轴数为3\n---------------------------\n[[0 1]\n [2 3]] 数组轴数为2\n---------------------------\n[0 1] 数组轴数为1\n---------------------------\n1 数组轴数为0\n"
    }
   ],
   "source": [
    "# 三维数组的索引与切片\n",
    "\n",
    "ar3 = np.arange(8).reshape(2,2,2)\n",
    "print(ar3, '数组轴数为%i' %ar3.ndim)                     # 2*2*2的数组，并显示数组的轴数\n",
    "print('---------------------------')\n",
    "print(ar3[0],  '数组轴数为%i' %ar3[0].ndim)              # 一次索引，三维数组的一个维度的第一个元素是一个二维数组\n",
    "print('---------------------------')\n",
    "print(ar3[0][0],  '数组轴数为%i' %ar3[0][0].ndim)        # 二次索引，三维数组的一个维度的第一个元素下的第一个元素是一个一维数组\n",
    "print('---------------------------')\n",
    "print(ar3[0][0][1],  '数组轴数为%i' %ar3[0][0][1].ndim)  # 三次索引"
   ]
  },
  {
   "cell_type": "markdown",
   "execution_count": null,
   "metadata": {},
   "outputs": [],
   "source": [
    "## 2、Numpy中布尔型索引与切片"
   ]
  },
  {
   "cell_type": "code",
   "execution_count": 5,
   "metadata": {},
   "outputs": [
    {
     "name": "stdout",
     "output_type": "stream",
     "text": "[[ 0  1  2  3]\n [ 4  5  6  7]\n [ 8  9 10 11]]\n---------------------------\n[ True False  True]\n---------------------------\n[ True  True False False]\n---------------------------\n[[ 0  1  2  3]\n [ 8  9 10 11]]\n---------------------------\n[[0 1]\n [4 5]\n [8 9]]\n---------------------------\n[[False False False False]\n [False False  True  True]\n [ True  True  True  True]]\n---------------------------\n[ 6  7  8  9 10 11]\n"
    }
   ],
   "source": [
    "# 布尔型索引：以布尔型的矩阵去做筛选\n",
    "\n",
    "ar = np.arange(12).reshape(3,4)\n",
    "i = np.array([True,False,True])\n",
    "j = np.array([True,True,False,False])\n",
    "print(ar)\n",
    "print('---------------------------')\n",
    "print(i)\n",
    "print('---------------------------')\n",
    "print(j)\n",
    "print('---------------------------')\n",
    "print(ar[i,:])  # 在第一维度做判断，只保留True，这里第一维度就是行，ar[i,:] = ar[i]（简单书写格式）\n",
    "print('---------------------------')\n",
    "print(ar[:,j])  # 在第二维度做判断，这里如果ar[:,i]会有警告，因为i是3个元素，而ar在列上有4个\n",
    "print('---------------------------')\n",
    "\n",
    "m = ar > 5\n",
    "print(m)  # 这里m是一个判断矩阵\n",
    "print('---------------------------')\n",
    "print(ar[m])  # 用m判断矩阵去筛选ar数组中>5的元素 "
   ]
  },
  {
   "cell_type": "markdown",
   "execution_count": null,
   "metadata": {},
   "outputs": [],
   "source": [
    "## 3、数组索引与切片的值的更改、复制"
   ]
  },
  {
   "cell_type": "code",
   "execution_count": 6,
   "metadata": {},
   "outputs": [
    {
     "name": "stdout",
     "output_type": "stream",
     "text": "[0 1 2 3 4 5 6 7 8 9]\n[  0   1   2   3   4 100   6   7   8   9]\n[  0   1   2   3   4 100   6 200 200   9]\n"
    }
   ],
   "source": [
    "# 一个标量赋值给一个索引/切片时，会自动改变/传播原始数组\n",
    "\n",
    "ar4 = np.arange(10)\n",
    "print(ar4)\n",
    "ar4[5] = 100\n",
    "print(ar4)\n",
    "ar4[7:9] = 200\n",
    "print(ar4)"
   ]
  },
  {
   "cell_type": "code",
   "execution_count": 7,
   "metadata": {},
   "outputs": [
    {
     "name": "stdout",
     "output_type": "stream",
     "text": "[0 1 2 3 4 5 6 7 8 9]\n[  0   1   2   3   4   5   6 200 200   9]\n"
    }
   ],
   "source": [
    "# 利用.copy方法进行复制，不改变原数组\n",
    "\n",
    "ar5 = np.arange(10)\n",
    "b = ar5.copy()\n",
    "b[7:9] = 200\n",
    "print(ar5)\n",
    "print(b)"
   ]
  }
 ]
}