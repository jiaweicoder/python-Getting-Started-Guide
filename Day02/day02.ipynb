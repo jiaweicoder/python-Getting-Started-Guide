{
 "nbformat": 4,
 "nbformat_minor": 2,
 "metadata": {
  "language_info": {
   "name": "python",
   "codemirror_mode": {
    "name": "ipython",
    "version": 3
   },
   "version": "3.7.3-final"
  },
  "orig_nbformat": 2,
  "file_extension": ".py",
  "mimetype": "text/x-python",
  "name": "python",
  "npconvert_exporter": "python",
  "pygments_lexer": "ipython3",
  "version": 3,
  "kernelspec": {
   "name": "python37364bitvirtualenv32be95ad933c47fbb78ccf01a5aa1a4d",
   "display_name": "Python 3.7.3 64-bit (virtualenv)"
  }
 },
 "cells": [
  {
   "cell_type": "markdown",
   "execution_count": null,
   "metadata": {},
   "outputs": [],
   "source": [
    "# Day 02 序列(一)"
   ]
  },
  {
   "cell_type": "markdown",
   "execution_count": null,
   "metadata": {},
   "outputs": [],
   "source": [
    "## 1、序列的简介"
   ]
  },
  {
   "cell_type": "code",
   "execution_count": 1,
   "metadata": {},
   "outputs": [
    {
     "data": {
      "text/plain": "(int, 140732104020864)"
     },
     "execution_count": 1,
     "metadata": {},
     "output_type": "execute_result"
    }
   ],
   "source": [
    "x1 = 3\n",
    "type(x1),id(x1)"
   ]
  },
  {
   "cell_type": "code",
   "execution_count": 2,
   "metadata": {},
   "outputs": [
    {
     "data": {
      "text/plain": "(float, 1919762208304)"
     },
     "execution_count": 2,
     "metadata": {},
     "output_type": "execute_result"
    }
   ],
   "source": [
    "x2 = 3.14\n",
    "type(x2),id(x2)"
   ]
  },
  {
   "cell_type": "code",
   "execution_count": 3,
   "metadata": {},
   "outputs": [
    {
     "name": "stdout",
     "output_type": "stream",
     "text": "<class 'list'> <class 'tuple'> <class 'tuple'> <class 'str'>\n"
    }
   ],
   "source": [
    "var1 = [0,1,2,3]\n",
    "var2 = 0,1,2,3\n",
    "var3 = (0,1,2,3)\n",
    "var4 = '0123'\n",
    "print(type(var1),type(var2),type(var3),type(var4))\n",
    "# var2和var3其实是相同的"
   ]
  },
  {
   "cell_type": "code",
   "execution_count": 4,
   "metadata": {},
   "outputs": [
    {
     "data": {
      "text/plain": "[4, 1, 2, 3]"
     },
     "execution_count": 4,
     "metadata": {},
     "output_type": "execute_result"
    }
   ],
   "source": [
    "var5 = [0,1,2,3]\n",
    "var5[0] = 4\n",
    "var5\n",
    "# list型中的元素可以用上述方法改变，但tuple型不可以"
   ]
  },
  {
   "cell_type": "code",
   "execution_count": 5,
   "metadata": {},
   "outputs": [
    {
     "data": {
      "text/plain": "'0'"
     },
     "execution_count": 5,
     "metadata": {},
     "output_type": "execute_result"
    }
   ],
   "source": [
    "var6 = '0123'\n",
    "var6[0]\n",
    "# 但不能改变str中的元素"
   ]
  },
  {
   "cell_type": "code",
   "execution_count": 6,
   "metadata": {},
   "outputs": [
    {
     "data": {
      "text/plain": "0"
     },
     "execution_count": 6,
     "metadata": {},
     "output_type": "execute_result"
    }
   ],
   "source": [
    "var7 = 0,1,2,3\n",
    "var7[0]\n",
    "# 也不能改变tuple中的元素"
   ]
  },
  {
   "cell_type": "markdown",
   "execution_count": null,
   "metadata": {},
   "outputs": [],
   "source": [
    "## 2、序列的分类\n",
    "### 序列分类：可变序列：列表list；\n",
    "### 不可变序列：元组tuple、字符串str"
   ]
  },
  {
   "cell_type": "markdown",
   "execution_count": null,
   "metadata": {},
   "outputs": [],
   "source": [
    "# 3、序列的一些常用函数和方法"
   ]
  },
  {
   "cell_type": "code",
   "execution_count": 7,
   "metadata": {},
   "outputs": [
    {
     "name": "stdout",
     "output_type": "stream",
     "text": "True\nFalse\nFalse\nTrue\n"
    }
   ],
   "source": [
    "# 判断值是否属于序列\n",
    "\n",
    "lst = [0,1,2,3,4,5,6,7]\n",
    "a,b = 1,9\n",
    "# print(x in y) , 如果 x 在 y 序列中返回 True，否则返回False。\n",
    "print(a in lst)\n",
    "print(b in lst)\n",
    "# print(x not in y) , 如果 x 不在 y 序列中返回 True，否则返回False。\n",
    "print(a not in lst)\n",
    "print(b not in lst)"
   ]
  },
  {
   "cell_type": "code",
   "execution_count": 8,
   "metadata": {},
   "outputs": [
    {
     "name": "stdout",
     "output_type": "stream",
     "text": "[0, 1, 2, 3, 'a', 'b', 'c']\n[0, 1, 2, 3, 0, 1, 2, 3, 0, 1, 2, 3] ['a', 'b', 'c', 'a', 'b', 'c']\n[0, 1, 2, 3, 0, 1, 2, 3, 0, 1, 2, 3, 'a', 'b', 'c', 'a', 'b', 'c']\n"
    }
   ],
   "source": [
    "# 序列链接与重复\n",
    "\n",
    "lst1 = [0,1,2,3]\n",
    "lst2 = ['a','b','c']\n",
    "# \"+\"：序列的链接\n",
    "print(lst1+lst2)\n",
    "# \"*\"：序列重复\n",
    "print(lst1*3,lst2*2)\n",
    "\n",
    "print(lst1*3+lst2*2)"
   ]
  },
  {
   "cell_type": "code",
   "execution_count": 9,
   "metadata": {},
   "outputs": [
    {
     "name": "stdout",
     "output_type": "stream",
     "text": "0 1 9\n9 1 0\n"
    }
   ],
   "source": [
    "# 下标索引\n",
    "\n",
    "lst = [0,1,2,3,4,5,6,7,8,9]\n",
    "# 索引从0开始，eg lst[1]中，下标索引是1，指向lst的第2个值\n",
    "print(lst[0],lst[1],lst[9])\n",
    "# 索引-1代表最后一个值\n",
    "print(lst[-1],lst[-9],lst[-10])\n",
    "# print(lst[10])错误，这里一共有10个值，所以最大索引是9\n",
    "# 同理lst[-11]也是错误的"
   ]
  },
  {
   "cell_type": "code",
   "execution_count": 10,
   "metadata": {},
   "outputs": [
    {
     "name": "stdout",
     "output_type": "stream",
     "text": "[0, 2, 4]\n[0, 2, 4, 6, 8]\n[1, 3, 5, 7, 9]\n"
    }
   ],
   "source": [
    "# 步长\n",
    "\n",
    "lst = [0,1,2,3,4,5,6,7,8,9]\n",
    "# List[i:j:n]代表：索引i - 索引j，以n为步长\n",
    "print(lst[0:5:2])\n",
    "# 按照2为步长，从第一个值开始截取lst数据\n",
    "print(lst[::2])\n",
    "# 按照2为步长，从第二个值开始截取lst数据\n",
    "print(lst[1::2])"
   ]
  },
  {
   "cell_type": "code",
   "execution_count": 11,
   "metadata": {},
   "outputs": [
    {
     "name": "stdout",
     "output_type": "stream",
     "text": "10\n9 0 45\n3\n5\n5 3\n"
    }
   ],
   "source": [
    "# 序列的基本内置全局函数\n",
    "\n",
    "lst = [0,1,2,3,4,5,6,7,8,9]\n",
    "# 显示列表元素个数\n",
    "print(len(lst))\n",
    "# 返回列表的最大值、最小值、求和，这三个函数都只针对数字的list\n",
    "print(max(lst),min(lst),sum(lst))\n",
    "# list.index(obj)方法：从列表中找出某个值obj第一个匹配项的索引位置\n",
    "print(lst.index(3))\n",
    "\n",
    "lst = [0,1,1,2,3,3,4,4,4,4,4,5,6]\n",
    "# list.count(obj)方法：计算值obj的出现次数\n",
    "print(lst.count(4))\n",
    "\n",
    "x1=[1,2,5,1,1,1,1]\n",
    "x2=1,2,5,1,1,'1','1'\n",
    "print(x1.count(1),x2.count(1))"
   ]
  },
  {
   "cell_type": "markdown",
   "execution_count": null,
   "metadata": {},
   "outputs": [],
   "source": [
    "# 4、序列的一些常用操作"
   ]
  },
  {
   "cell_type": "code",
   "execution_count": 12,
   "metadata": {},
   "outputs": [
    {
     "name": "stdout",
     "output_type": "stream",
     "text": "[0, 1, 2, 3, 'a', 'b', 'c', [0, 1, 2, 3]]\n314 47 47\n[0, 1, 2, 3, 0, 1, 2, 3, 0, 1, 2, 3]\n[0, 1, 2, ['a', 'b', 'c']]\n[1000, 101, 102]\n"
    }
   ],
   "source": [
    "# 列表的特征\n",
    "\n",
    "# 可包含任意类型的对象：数值、字符串、列表等\n",
    "lst1 = [0,1,2,3,'a','b','c',[0,1,2,3]]\n",
    "print(lst1)\n",
    "\n",
    "# 通过下标索引访问序列中的值 → 序列的顺序是不能改变的,通过索引来定位列表的元素\n",
    "lst2 = [314,97,428,67,47]\n",
    "print(lst2[0],lst2[4],lst2[-1])\n",
    "\n",
    "# 可随意变换列表长度，相当于随意指定新的列表\n",
    "lst3 = [0,1,2,3]\n",
    "lst4 = lst3 * 3\n",
    "print(lst4)\n",
    "\n",
    "# 可嵌套\n",
    "lst5 = [0,1,2,['a','b','c']]\n",
    "print(lst5)\n",
    "\n",
    "# 可原位改变\n",
    "lst6 = [100,101,102]\n",
    "lst6[0] = 1000\n",
    "print(lst6)"
   ]
  },
  {
   "cell_type": "code",
   "execution_count": 13,
   "metadata": {},
   "outputs": [
    {
     "name": "stdout",
     "output_type": "stream",
     "text": "range(0, 5) <class 'range'>\n[0, 1, 2, 3, 4]\n[2, 3, 4]\n[0, 2, 4, 6, 8]\n"
    }
   ],
   "source": [
    "# 列表与生成器\n",
    "\n",
    "# range()是生成器，指向了一个范围\n",
    "print(range(5),type(range(5)))\n",
    "# 通过list()函数生成列表\n",
    "\n",
    "# range(5)代表指向了0,1,2,3,4这几个值\n",
    "lst1 = list(range(5))\n",
    "print(lst1)\n",
    "# range(2,5)代表指向了2,3,4这几个值，注意这里不是使用:\n",
    "lst2 = list(range(2,5))\n",
    "print(lst2)\n",
    "# range(0,10,2)代表指向了0,2,4,6,8这几个值，最后的2代表步长\n",
    "lst3 = list(range(0,10,2))\n",
    "print(lst3)\n"
   ]
  },
  {
   "cell_type": "markdown",
   "execution_count": null,
   "metadata": {},
   "outputs": [],
   "source": [
    "## 可变列表的常用操作"
   ]
  },
  {
   "cell_type": "code",
   "execution_count": 14,
   "metadata": {},
   "outputs": [
    {
     "name": "stdout",
     "output_type": "stream",
     "text": "[0, 1, 2, 3, 4, 5, 6, 7, 8, 9, 'hello']\n[0, 1, 2, 3, 4, 5, 6, 7, 8, 9, 'hello', ['a', 'b', 'c']]\n[0, 1, 2, 3, 4, 5, 6, 7, 8, 9, 'hello', ['a', 'b', 'c'], 'a', 'b', 'c']\n"
    }
   ],
   "source": [
    "# 可变列表list常用操作 - 添加元素\n",
    "\n",
    "# list.append() 添加元素\n",
    "lst = list(range(10))\n",
    "lst.append('hello')\n",
    "print(lst)\n",
    "\n",
    "# 添加多个元素用.extend()方法：用新列表扩展原来的列表，注意和append()方法的区别\n",
    "lst.append(['a','b','c'])\n",
    "print(lst)\n",
    "lst.extend(['a','b','c'])\n",
    "print(lst)"
   ]
  },
  {
   "cell_type": "code",
   "execution_count": 15,
   "metadata": {},
   "outputs": [
    {
     "name": "stdout",
     "output_type": "stream",
     "text": "[0, 1, 2, 3, 4, ['a', 'b', 'c']]\n[0, 1, 2, 3, 4, ['a', 'b', 'c']]\n"
    }
   ],
   "source": [
    "lst1 = [0,1,2,3,4]\n",
    "lst1.extend([['a','b','c']])\n",
    "print(lst1)\n",
    "lst2 = [0,1,2,3,4]\n",
    "lst2.append(['a','b','c'])\n",
    "print(lst2)"
   ]
  },
  {
   "cell_type": "code",
   "execution_count": 16,
   "metadata": {},
   "outputs": [
    {
     "name": "stdout",
     "output_type": "stream",
     "text": "['Jerry', 'Jack', 'Tom', 'Jenny', 'White', 'Alex']\n['Jerry', 'Jack', 'Tom', 'Alex']\n[]\n"
    }
   ],
   "source": [
    "# 可变列表list常用操作 - 删除元素\n",
    "\n",
    "lst = ['Jerry','Jerry','Jack','Tom','Jenny','White','Alex']\n",
    "# .remove方法：移除列表中某个值的第一个匹配项\n",
    "lst.remove('Jerry')\n",
    "print(lst)\n",
    "\n",
    "# del语句：删除list的相应索引值\n",
    "del lst[3:5]\n",
    "print(lst)\n",
    "\n",
    "# 移除所有值\n",
    "lst.clear()\n",
    "print(lst)"
   ]
  },
  {
   "cell_type": "code",
   "execution_count": 17,
   "metadata": {},
   "outputs": [
    {
     "name": "stdout",
     "output_type": "stream",
     "text": "[0, 1, 2, 3, 4, 5, 6, 7, 8, 9]\n[0, 1, 2, 'a', 3, 4, 5, 6, 7, 8, 9]\n[0, 1, 2, 3, 4, ['a', 'b', 'c'], 5, 6, 7, 8, 9]\n[0, 1, 2, 3, 4, 'a', 5, 6, 7, 8, 9]\n"
    }
   ],
   "source": [
    "# 可变列表list常用操作 - 插入元素\n",
    "\n",
    "# x.insert(i,m)方法：在索引i处插入m，这里索引i代表第(i+1)个值\n",
    "lst1 = list(range(10))\n",
    "print(lst1)\n",
    "lst1.insert(3,'a')\n",
    "print(lst1)\n",
    "\n",
    "# 插入一个列表元素\n",
    "lst2 = list(range(10))\n",
    "lst2.insert(5,['a','b','c'])\n",
    "print(lst2)\n",
    "\n",
    "lst3 = list(range(10))\n",
    "lst3.insert(5,'a')\n",
    "print(lst3)"
   ]
  },
  {
   "cell_type": "code",
   "execution_count": 18,
   "metadata": {},
   "outputs": [
    {
     "name": "stdout",
     "output_type": "stream",
     "text": "[0, 1, 'hello', 3, 4, 5, 6, 7, 8, 9]\n[0, 1, 'hello', 3, 4, 5, 6, 7, 8, 9]\n[0, 1, 2, 3, 4, 5, 6, 7, 8, 9]\n[0, 1, 'hello', 3, 4, 5, 6, 7, 8, 9]\n"
    }
   ],
   "source": [
    "# 可变列表list常用操作 - 复制\n",
    "\n",
    "# lst，lst1指向同一个列表\n",
    "lst = list(range(10))\n",
    "lst1 = lst\n",
    "lst1[2] = 'hello'\n",
    "print(lst)\n",
    "print(lst1)\n",
    "# (这里有点像C语言里的指针)\n",
    "\n",
    "# list.copy()方法：复制一个新的列表，lst，lst2指向两个列表（虽然两个列表值相同）\n",
    "lst = list(range(10))\n",
    "lst2 = lst.copy()\n",
    "lst2[2] = 'hello'\n",
    "print(lst)\n",
    "print(lst2)"
   ]
  },
  {
   "cell_type": "code",
   "execution_count": 19,
   "metadata": {},
   "outputs": [
    {
     "name": "stdout",
     "output_type": "stream",
     "text": "[12, 23, 34, 56, 63, 78, 90] ['asd', 'cxv', 'ghv']\n[90, 78, 63, 56, 34, 23, 12] ['ghv', 'cxv', 'asd']\n[90, 78, 63, 56, 34, 23, 12] [12, 23, 34, 56, 63, 78, 90, 'hello']\n"
    }
   ],
   "source": [
    "# 可变列表list常用操作 - 排序\n",
    "\n",
    "# list.sort默认升序排序/字母顺序\n",
    "lst1 = [12,34,56,78,90,23,63]\n",
    "lst2 = [\"asd\", \"cxv\", \"ghv\"]\n",
    "lst1.sort()\n",
    "lst2.sort()\n",
    "print(lst1,lst2)\n",
    "\n",
    "# 参数reverse：反向排序，针对数字\n",
    "lst1.sort(reverse=True)\n",
    "lst2.sort(reverse=True)\n",
    "print(lst1,lst2)\n",
    "\n",
    "# 函数sorted():排序并复制\n",
    "lst3 = sorted(lst1)\n",
    "lst3.append('hello')\n",
    "print(lst1,lst3)"
   ]
  }
 ]
}