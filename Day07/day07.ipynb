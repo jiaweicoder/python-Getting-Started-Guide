{
 "nbformat": 4,
 "nbformat_minor": 2,
 "metadata": {
  "language_info": {
   "name": "python",
   "codemirror_mode": {
    "name": "ipython",
    "version": 3
   },
   "version": "3.7.3-final"
  },
  "orig_nbformat": 2,
  "file_extension": ".py",
  "mimetype": "text/x-python",
  "name": "python",
  "npconvert_exporter": "python",
  "pygments_lexer": "ipython3",
  "version": 3,
  "kernelspec": {
   "name": "python37364bitvirtualenv32be95ad933c47fbb78ccf01a5aa1a4d",
   "display_name": "Python 3.7.3 64-bit (virtualenv)"
  }
 },
 "cells": [
  {
   "cell_type": "markdown",
   "execution_count": null,
   "metadata": {},
   "outputs": [],
   "source": [
    "# Day 07 函数"
   ]
  },
  {
   "cell_type": "markdown",
   "execution_count": null,
   "metadata": {},
   "outputs": [],
   "source": [
    "## 1、函数的基本概念"
   ]
  },
  {
   "cell_type": "code",
   "execution_count": 1,
   "metadata": {},
   "outputs": [
    {
     "name": "stdout",
     "output_type": "stream",
     "text": "input >= 9\n"
    }
   ],
   "source": [
    "# 定义函数\n",
    "\n",
    "def f(x):\n",
    "    if x < 9:\n",
    "        print('input < 9')\n",
    "    else:\n",
    "        print('input >= 9')  # 定义函数部分中的x是参数，即是一个局部变量\n",
    "\n",
    "# 运行函数\n",
    "f(10)"
   ]
  },
  {
   "cell_type": "code",
   "execution_count": 2,
   "metadata": {},
   "outputs": [
    {
     "name": "stdout",
     "output_type": "stream",
     "text": "None\n8\n"
    }
   ],
   "source": [
    "# return的使用\n",
    "# 不含return语句的函数返回None；return语句退出函数，并返回一个返回值。\n",
    "\n",
    "def f1(x):\n",
    "    y = 2**x  # 函数中没有return，即函数没有返回值\n",
    "    \n",
    "def f2(x):\n",
    "    y = 2**x\n",
    "    return y # 函数中含有return，即函数中存在返回值\n",
    "\n",
    "print(f1(3))\n",
    "print(f2(3))"
   ]
  },
  {
   "cell_type": "code",
   "execution_count": 3,
   "metadata": {},
   "outputs": [
    {
     "name": "stdout",
     "output_type": "stream",
     "text": "120\n1020\n"
    }
   ],
   "source": [
    "# 设置函数中的默认参数\n",
    "\n",
    "def g(x,n = 2):\n",
    "    return(x**n + 2 * x)\n",
    "    # n = 2,这里n的默认值为2，如果不输入则以默认值为主\n",
    "print(g(10))\n",
    "print(g(10,3))"
   ]
  },
  {
   "cell_type": "code",
   "execution_count": 4,
   "metadata": {},
   "outputs": [
    {
     "name": "stdout",
     "output_type": "stream",
     "text": "(2,)\n--------------\n(2,)\n(2, 2)\n--------------\n(2,)\n<class 'tuple'>\n--------------\n('a', 'b')\n--------------\n('a', 'b')\n('a', 'b', 'a', 'b')\n--------------\n('a', 'b')\n<class 'tuple'>\n--------------\n(0, 1, 2, [33, 44])\n--------------\n(0, 1, 2, [33, 44])\n(0, 1, 2, [33, 44], 0, 1, 2, [33, 44])\n--------------\n(0, 1, 2, [33, 44])\n<class 'tuple'>\n--------------\n"
    }
   ],
   "source": [
    "# 将函数的参数设置为可变参数\n",
    "# 通过*可以在函数中定义可变参数，默认会把可变参数传入一个元祖\n",
    "\n",
    "def h(*x):\n",
    "    print(x)\n",
    "    return (x*2)\n",
    "\n",
    "h(2)\n",
    "print('--------------')\n",
    "print(h(2))\n",
    "print('--------------')\n",
    "print(type(h(2)))\n",
    "print('--------------')\n",
    "\n",
    "h('a','b')\n",
    "print('--------------')\n",
    "print(h('a','b'))\n",
    "print('--------------')\n",
    "print(type(h('a','b')))\n",
    "print('--------------')\n",
    "\n",
    "h(0,1,2,[33,44])\n",
    "print('--------------')\n",
    "print(h(0,1,2,[33,44]))\n",
    "print('--------------')\n",
    "print(type(h(0,1,2,[33,44])))\n",
    "print('--------------')"
   ]
  },
  {
   "cell_type": "markdown",
   "execution_count": null,
   "metadata": {},
   "outputs": [],
   "source": [
    "## 2、局部变量和全局变量"
   ]
  },
  {
   "cell_type": "markdown",
   "execution_count": null,
   "metadata": {},
   "outputs": [],
   "source": [
    "定义在函数内部的变量只有一个局部作用域，被称为局部变量，局部变量只能在其被声明的函数内部访问；\n",
    "\n",
    "定义在函数外部的变量拥有全局作用域，被称为全局变量，全局变量可以在整个程序范围内访问。\n",
    "\n",
    "在调用函数时，所有在函数内声明的变量名称都将被加入到作用域中"
   ]
  },
  {
   "cell_type": "code",
   "execution_count": 5,
   "metadata": {},
   "outputs": [
    {
     "name": "stdout",
     "output_type": "stream",
     "text": "函数内的局部变量：hello world\n函数外的全局变量：314\n"
    }
   ],
   "source": [
    "# 例子\n",
    "\n",
    "def f(a):\n",
    "    a = 'hello world'  # 函数作用：把输入变量指向“hello world”\n",
    "    print(\"函数内的局部变量：%s\" % a)\n",
    "\n",
    "a = input('请输入一个数字：')\n",
    "f(a)\n",
    "print(\"函数外的全局变量：%s\" % a)"
   ]
  },
  {
   "cell_type": "code",
   "execution_count": 6,
   "metadata": {},
   "outputs": [
    {
     "name": "stdout",
     "output_type": "stream",
     "text": "输入的变量值：314\n将函数内的局部变量转换为全局变量：hello world\n"
    }
   ],
   "source": [
    "# global语句 : 把局部变量变为全局变量\n",
    "\n",
    "def f():\n",
    "    global a\n",
    "    a = 'hello world'  \n",
    "    print(\"将函数内的局部变量转换为全局变量：%s\" % a)    \n",
    "\n",
    "a = input('请输入一个数字：')\n",
    "print(\"输入的变量值：%s\" % a)\n",
    "f()"
   ]
  },
  {
   "cell_type": "markdown",
   "execution_count": null,
   "metadata": {},
   "outputs": [],
   "source": [
    "## 3、匿名函数Lambda"
   ]
  },
  {
   "cell_type": "markdown",
   "execution_count": null,
   "metadata": {},
   "outputs": [],
   "source": [
    "lambda语句可以创建匿名函数。\n",
    "\n",
    "lambda作为匿名函数，则不需要函数名。\n",
    "\n",
    "lambda定义的函数只有一行，仅仅在lambda表达式中只能封装比较简单的逻辑进去。"
   ]
  },
  {
   "cell_type": "code",
   "execution_count": 7,
   "metadata": {},
   "outputs": [
    {
     "name": "stdout",
     "output_type": "stream",
     "text": "6\n6\n"
    }
   ],
   "source": [
    "# 例子\n",
    "\n",
    "def fun(a,b,c):\n",
    "    return a+b+c\n",
    "print(fun(0,2,4))\n",
    "\n",
    "# 由def定义创建的自定义函数：求和函数，用lambda函数重新创建求和函数\n",
    "\n",
    "f = lambda a,b,c:a+b+c\n",
    "print(f(0,2,4))"
   ]
  }
 ]
}