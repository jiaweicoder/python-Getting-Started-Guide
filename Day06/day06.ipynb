{
 "nbformat": 4,
 "nbformat_minor": 2,
 "metadata": {
  "language_info": {
   "name": "python",
   "codemirror_mode": {
    "name": "ipython",
    "version": 3
   },
   "version": "3.7.3-final"
  },
  "orig_nbformat": 2,
  "file_extension": ".py",
  "mimetype": "text/x-python",
  "name": "python",
  "npconvert_exporter": "python",
  "pygments_lexer": "ipython3",
  "version": 3,
  "kernelspec": {
   "name": "python37364bitbasecondaabad9ebff4c14cdbaa066c9205fa3975",
   "display_name": "Python 3.7.3 64-bit ('base': conda)"
  }
 },
 "cells": [
  {
   "cell_type": "markdown",
   "execution_count": null,
   "metadata": {},
   "outputs": [],
   "source": [
    "# Day 06 语句(二)"
   ]
  },
  {
   "cell_type": "markdown",
   "execution_count": null,
   "metadata": {},
   "outputs": [],
   "source": [
    "## 循环语句"
   ]
  },
  {
   "cell_type": "markdown",
   "execution_count": null,
   "metadata": {},
   "outputs": [],
   "source": [
    "### 1、循环语句：for循环"
   ]
  },
  {
   "cell_type": "code",
   "execution_count": 1,
   "metadata": {},
   "outputs": [
    {
     "name": "stdout",
     "output_type": "stream",
     "text": "hello world\nhello world\nhello world\nhello world\nhello world\n"
    }
   ],
   "source": [
    "# 用for循环输出\"hello world\"5次\n",
    "for i in range(5):\n",
    "    print('hello world')"
   ]
  },
  {
   "cell_type": "markdown",
   "execution_count": null,
   "metadata": {},
   "outputs": [],
   "source": [
    "### 通过for遍历序列、映射"
   ]
  },
  {
   "cell_type": "code",
   "execution_count": 2,
   "metadata": {},
   "outputs": [
    {
     "name": "stdout",
     "output_type": "stream",
     "text": "0\n2\n4\n6\n8\n0~9中的所有偶数\n"
    }
   ],
   "source": [
    "# 遍历list\n",
    "\n",
    "lst1 = list(range(10))\n",
    "for i in lst1[::2]:\n",
    "    print(i)\n",
    "print('0~9中的所有偶数')"
   ]
  },
  {
   "cell_type": "code",
   "execution_count": 3,
   "metadata": {},
   "outputs": [
    {
     "name": "stdout",
     "output_type": "stream",
     "text": "Tom分数为：89分\nJack分数为：91分\nJerry分数为：87分\nMary分数为：90分\n"
    }
   ],
   "source": [
    "# 遍历字典\n",
    "\n",
    "score = {'Tom':89, 'Jack':91, 'Jerry':87, 'Mary':90}\n",
    "for name in score:\n",
    "    print(name + '分数为：%s分' % score[name])\n",
    "# for后面紧跟的是字典的key"
   ]
  },
  {
   "cell_type": "markdown",
   "execution_count": null,
   "metadata": {},
   "outputs": [],
   "source": [
    "### 嵌套循环\n",
    "在循环中嵌套循环时，应注意，尽量不要多于3个嵌套"
   ]
  },
  {
   "cell_type": "code",
   "execution_count": 4,
   "metadata": {},
   "outputs": [
    {
     "name": "stdout",
     "output_type": "stream",
     "text": "0\n0 0\n0 1\n0 2\n0 3\n0 4\n1\n1 0\n1 1\n1 2\n1 3\n1 4\n2\n2 0\n2 1\n2 2\n2 3\n2 4\n"
    }
   ],
   "source": [
    "for i in range(3):\n",
    "    print(i)\n",
    "    for j in range(5):\n",
    "        print(i,j)"
   ]
  },
  {
   "cell_type": "markdown",
   "execution_count": null,
   "metadata": {},
   "outputs": [],
   "source": [
    "### 2、循环语句：while循环"
   ]
  },
  {
   "cell_type": "markdown",
   "execution_count": null,
   "metadata": {},
   "outputs": [],
   "source": [
    "执行语句既可以是单个语句，也可以是一个整体的语句块；\n",
    "\n",
    "判断条件可以是任何表达式，其中任何非零、或非空（null）的值均被视作true；\n",
    "\n",
    "当判断条件为false时，结束循环。"
   ]
  },
  {
   "cell_type": "code",
   "execution_count": 5,
   "metadata": {},
   "outputs": [
    {
     "name": "stdout",
     "output_type": "stream",
     "text": "The number is: 0\nThe number is: 1\nThe number is: 2\nThe number is: 3\nThe number is: 4\nThe number is: 5\nThe number is: 6\nThe number is: 7\nThe number is: 8\nThe number is: 9\nEnd!\n"
    }
   ],
   "source": [
    "# 基本运行逻辑\n",
    "\n",
    "number1 = 0\n",
    "while number1 < 10:\n",
    "    print( 'The number is:', number1)\n",
    "    number1 = number1 + 1\n",
    "print( \"End!\")\n",
    "# 这里number1<10是一个判断语句，当判断为True时，则继续运行"
   ]
  },
  {
   "cell_type": "code",
   "execution_count": 6,
   "metadata": {},
   "outputs": [
    {
     "name": "stdout",
     "output_type": "stream",
     "text": "You entered:  1\nYou entered:  2\nYou entered:  3\nYou have entered three numbers!\n"
    }
   ],
   "source": [
    "# 无限循环：如果条件判断的语句永远为 true，则循环过程将会无限的执行下去，例子如下：\n",
    "\n",
    "#var = 1\n",
    "#while var == 1 :  \n",
    "#    num = input(\"Enter a number  :\")\n",
    "#    print( \"You entered: \", num)\n",
    "#print( \"Good bye!\")\n",
    "# 该条件永远为true，循环将不停的执行下去\n",
    "\n",
    "var = 1\n",
    "while var <= 3 :\n",
    "    var = var + 1  \n",
    "    num = input(\"Enter a number  :\")\n",
    "    print( \"You entered: \", num)\n",
    "print( \"You have entered three numbers!\")"
   ]
  },
  {
   "cell_type": "code",
   "execution_count": 7,
   "metadata": {},
   "outputs": [
    {
     "name": "stdout",
     "output_type": "stream",
     "text": "0  is  less than 3\n1  is  less than 3\n2  is  less than 3\n3  is not less than 3\n"
    }
   ],
   "source": [
    "# while-else语句\n",
    "\n",
    "number2 = 0\n",
    "while number2 < 3:\n",
    "    print(number2, \" is  less than 3\")\n",
    "    number2 = number2 + 1\n",
    "else:\n",
    "    print(number2, \" is not less than 3\")\n",
    "# 这里while-else语句的逻辑和if-else语句的逻辑一样"
   ]
  },
  {
   "cell_type": "markdown",
   "execution_count": null,
   "metadata": {},
   "outputs": [],
   "source": [
    "### 3、循环控制语句"
   ]
  },
  {
   "cell_type": "markdown",
   "execution_count": null,
   "metadata": {},
   "outputs": [],
   "source": [
    "break：在语句块执行的过程中终止循环，并且直接跳出整个循环\n",
    "\n",
    "continue：在语句块执行的过程中跳出该次循环，直接执行下一次循环\n",
    "\n",
    "pass：pass表示是空语句，在没有具体语句内容的情况下，为了保持程序结构的完整性，所以用pass填充"
   ]
  },
  {
   "cell_type": "code",
   "execution_count": 8,
   "metadata": {},
   "outputs": [
    {
     "name": "stdout",
     "output_type": "stream",
     "text": "第1次计算后，sn的值为1\n第2次计算后，sn的值为3\n第3次计算后，sn的值为6\n第4次计算后，sn的值为10\n第5次计算后，sn的值为15\n共计算了5次\n"
    }
   ],
   "source": [
    "# break语句\n",
    "\n",
    "sn = 0\n",
    "n = 1\n",
    "while n > 0:\n",
    "    sn = sn + n\n",
    "    print('第%i次计算后，sn的值为%i' %(n,sn))\n",
    "    n = n + 1\n",
    "    if n == 6:\n",
    "        break\n",
    "print('共计算了5次')\n",
    "# break语句用来终止循环语句，即便循环条件没有False条件或者序列还没被完全递归完，也会停止执行循环语句。"
   ]
  },
  {
   "cell_type": "code",
   "execution_count": 9,
   "metadata": {},
   "outputs": [
    {
     "name": "stdout",
     "output_type": "stream",
     "text": "第0次计算后，s的值为0\n第1次计算后，s的值为0\n第2次计算后，s的值为0\n第3次计算后，s的值为0\n第4次计算后，s的值为0\n第1次计算后，s的值为0\n第2次计算后，s的值为1\n第3次计算后，s的值为3\n第4次计算后，s的值为6\n第5次计算后，s的值为10\n第2次计算后，s的值为10\n第3次计算后，s的值为10\n第4次计算后，s的值为10\n第5次计算后，s的值为10\n第6次计算后，s的值为10\n第7次计算后，s的值为10\n第8次计算后，s的值为10\n第9次计算后，s的值为10\n结果为10\n"
    }
   ],
   "source": [
    "# break语句在嵌套循环中的使用\n",
    "\n",
    "s = 0\n",
    "for i in range(10):\n",
    "    for j in range(5):\n",
    "        s = s + (i*j)\n",
    "        print('第%i次计算后，s的值为%i' %(i+j,s))\n",
    "        if s > 8:\n",
    "            break\n",
    "print('结果为%i' %s)\n",
    "# 如果使用嵌套循环，break语句将停止执行最里层的循环，并开始执行下一行代码，即外层的代码。"
   ]
  },
  {
   "cell_type": "code",
   "execution_count": 10,
   "metadata": {},
   "outputs": [
    {
     "name": "stdout",
     "output_type": "stream",
     "text": "[0]\n第0次计算\n[0, 2]\n第1次计算\n[0, 2, 4]\n第2次计算\n[0, 2, 4, 6]\n第3次计算\n[0, 2, 4, 6, 8]\n第4次计算\n结果为10\n"
    }
   ],
   "source": [
    "# continue语句\n",
    "\n",
    "lst2 = []\n",
    "for i in range(10):\n",
    "    if i%2 == 0:\n",
    "        lst2.append(i)\n",
    "        print(lst2)\n",
    "    else:\n",
    "        continue\n",
    "        print('本次循环的值并不能整除2')  # 该语句由于之前有continue语句，所以永远不会执行\n",
    "    print('第%i次计算'%(i/2))\n",
    "print('结果为%i' %s)\n",
    "# continue 语句用来告诉Python直接跳过当前循环剩余的语句，然后直接进行下一轮循环。"
   ]
  },
  {
   "cell_type": "code",
   "execution_count": 11,
   "metadata": {},
   "outputs": [
    {
     "name": "stdout",
     "output_type": "stream",
     "text": "当前字母是 : h\npass处的字母是 : e\n当前字母是 : e\n当前字母是 : l\n当前字母是 : l\n当前字母是 : o\nEnd!\n"
    }
   ],
   "source": [
    "# pass语句\n",
    "\n",
    "for letter in 'hello':\n",
    "    if letter == 'e':\n",
    "        pass\n",
    "        print( 'pass处的字母是 : e')\n",
    "    print( '当前字母是 :', letter)\n",
    "print( \"End!\")\n",
    "# pass是空语句，使用pass语句是为了保持程序结构的完整性。（既不中断也不跳过）"
   ]
  }
 ]
}