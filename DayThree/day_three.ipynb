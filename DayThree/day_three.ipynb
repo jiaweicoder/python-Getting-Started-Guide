{
 "nbformat": 4,
 "nbformat_minor": 2,
 "metadata": {
  "language_info": {
   "name": "python",
   "codemirror_mode": {
    "name": "ipython",
    "version": 3
   },
   "version": "3.7.3-final"
  },
  "orig_nbformat": 2,
  "file_extension": ".py",
  "mimetype": "text/x-python",
  "name": "python",
  "npconvert_exporter": "python",
  "pygments_lexer": "ipython3",
  "version": 3,
  "kernelspec": {
   "name": "python37364bitvirtualenv32be95ad933c47fbb78ccf01a5aa1a4d",
   "display_name": "Python 3.7.3 64-bit (virtualenv)"
  }
 },
 "cells": [
  {
   "cell_type": "markdown",
   "execution_count": null,
   "metadata": {},
   "outputs": [],
   "source": [
    "# 序列(二)"
   ]
  },
  {
   "cell_type": "markdown",
   "execution_count": null,
   "metadata": {},
   "outputs": [],
   "source": [
    "## 元祖tuple ：不可变的“列表”"
   ]
  },
  {
   "cell_type": "code",
   "execution_count": 1,
   "metadata": {},
   "outputs": [
    {
     "name": "stdout",
     "output_type": "stream",
     "text": "('physics', 'chemistry', 2018, 2020)\n(0, 1, 2, 3, 4, 5)\n('a', 'b', 'c', 'd', 'e')\n(50,)\n"
    }
   ],
   "source": [
    "tup1 = ('physics', 'chemistry', 2018, 2020);\n",
    "tup2 = (0, 1, 2, 3, 4, 5 );\n",
    "tup3 = \"a\", \"b\", \"c\", \"d\", \"e\"  # 可以不加括号\n",
    "tup4 = (50,)  # 元组中只包含一个元素时，需要在元素后面添加逗号\n",
    "\n",
    "print(tup1)\n",
    "print(tup2)\n",
    "print(tup3)\n",
    "print(tup4)"
   ]
  },
  {
   "cell_type": "code",
   "execution_count": 2,
   "metadata": {},
   "outputs": [
    {
     "name": "stdout",
     "output_type": "stream",
     "text": "2018 ('a', 'b')\n"
    }
   ],
   "source": [
    "tup5 = ('physics', 'chemistry', 2018, 2020)\n",
    "tup6 = (0, 1, 2, 3, 4, 5 )\n",
    "tup7 = \"a\", \"b\", \"c\", \"d\", \"e\"\n",
    "tup8 = (50,)\n",
    "print(tup5[2],tup7[:2])  # 索引、切片和list一样\n",
    "\n",
    "tup9 = (0,)\n",
    "del tup9\n",
    "# 元祖不能单独删除内部元素（不可变性），但可以del语句来删除整个元祖\n",
    "#所以del tup9之后不能再print(tup9)"
   ]
  },
  {
   "cell_type": "code",
   "execution_count": 3,
   "metadata": {},
   "outputs": [
    {
     "name": "stdout",
     "output_type": "stream",
     "text": "4\n('physics', 'chemistry', 2018, 2020, 0, 1, 2, 3, 4, 5)\n(0, 1, 2, 3, 4, 5, 0, 1, 2, 3, 4, 5, 0, 1, 2, 3, 4, 5)\n5 0\n"
    }
   ],
   "source": [
    "# 一些序列通用函数\n",
    "tup10 = ('physics', 'chemistry', 2018, 2020)\n",
    "tup11 = (0, 1, 2, 3, 4, 5 )\n",
    "print(len(tup10))\n",
    "print(tup10 + tup11)\n",
    "print(tup11 * 3)\n",
    "print(max(tup11),min(tup11))"
   ]
  },
  {
   "cell_type": "code",
   "execution_count": 4,
   "metadata": {},
   "outputs": [
    {
     "name": "stdout",
     "output_type": "stream",
     "text": "(0, 1, 2, 3, 4, 5, 6, 7, 8, 9) <class 'tuple'>\n"
    }
   ],
   "source": [
    "# tuple()函数：将列表转换为元组\n",
    "lst = list(range(10))\n",
    "tup12 = tuple(lst)\n",
    "print(tup12,type(tup12))"
   ]
  },
  {
   "cell_type": "markdown",
   "execution_count": null,
   "metadata": {},
   "outputs": [],
   "source": [
    "## 文本序列str的一些常用操作\n",
    "字符串也是一种序列——即文本序列"
   ]
  },
  {
   "cell_type": "code",
   "execution_count": 5,
   "metadata": {},
   "outputs": [
    {
     "name": "stdout",
     "output_type": "stream",
     "text": "abc\nabc\nMy name is \"Tom\"\nHello!\nHow are you?\nI`m fine.\nThank you.\n"
    }
   ],
   "source": [
    "# 字符串引号\n",
    "\n",
    "# 双引号单引号无区别，但文本中有引号的时候要相互交替使用\n",
    "str1 = \"abc\"\n",
    "str2 = 'abc'\n",
    "str3 = 'My name is \"Tom\"'\n",
    "\n",
    "print(str1)\n",
    "print(str2)\n",
    "print(str3)\n",
    "\n",
    "# 需要多行字符串时候用三引号 ''' ''',\"\"\" \"\"\"\n",
    "str4 = '''Hello!\n",
    "How are you?\n",
    "I`m fine.\n",
    "Thank you.'''\n",
    "\n",
    "print(str4)"
   ]
  },
  {
   "cell_type": "code",
   "execution_count": 6,
   "metadata": {},
   "outputs": [
    {
     "name": "stdout",
     "output_type": "stream",
     "text": "' \"\nHello\nHow are you?\n\\\n"
    }
   ],
   "source": [
    "# 转义字符：\\\n",
    "\n",
    "print('\\'', '\\\"')  # \\',\\\" ：分别输出单引号，双引号\n",
    "print('Hello\\nHow are you?')  # \\n：空行\n",
    "print('\\\\')  # 输出\\，所以文件路径用“/”或者“\\\\”"
   ]
  },
  {
   "cell_type": "markdown",
   "execution_count": null,
   "metadata": {},
   "outputs": [],
   "source": [
    "## 序列的一些常用功能"
   ]
  },
  {
   "cell_type": "code",
   "execution_count": 7,
   "metadata": {},
   "outputs": [
    {
     "name": "stdout",
     "output_type": "stream",
     "text": "True\nFalse\n"
    }
   ],
   "source": [
    "# in/not in ：判断是否存在\n",
    "print('a' in 'abc')\n",
    "print('d' in 'abc')"
   ]
  },
  {
   "cell_type": "code",
   "execution_count": 8,
   "metadata": {},
   "outputs": [
    {
     "name": "stdout",
     "output_type": "stream",
     "text": "How are you?I'm fine.\ninteresting interesting interesting interesting \ninterestinginterestinginterestinginteresting\n"
    }
   ],
   "source": [
    "# 文本连接\n",
    "print('How are you?' + \"I'm fine.\")\n",
    "# 文本复制\n",
    "print('interesting '*4)\n",
    "print('interesting'*4)"
   ]
  },
  {
   "cell_type": "code",
   "execution_count": 9,
   "metadata": {},
   "outputs": [
    {
     "name": "stdout",
     "output_type": "stream",
     "text": "c k\nab\nacegik\n"
    }
   ],
   "source": [
    "# 索引、切片、步长\n",
    "st1 = 'abcdefghijk'\n",
    "print(st1[2],st1[-1])\n",
    "print(st1[:2])\n",
    "print(st1[::2])"
   ]
  },
  {
   "cell_type": "code",
   "execution_count": 10,
   "metadata": {},
   "outputs": [
    {
     "name": "stdout",
     "output_type": "stream",
     "text": "6\nst2长度为： 11\n"
    }
   ],
   "source": [
    "st2 = 'abcdefghijk'\n",
    "print(st2.index('g'))  # .index()方法\n",
    "print('st2长度为：',len(st2))  # 计算字符串长度"
   ]
  },
  {
   "cell_type": "markdown",
   "execution_count": null,
   "metadata": {},
   "outputs": [],
   "source": [
    "## 字符串的一些常用功能"
   ]
  },
  {
   "cell_type": "code",
   "execution_count": 11,
   "metadata": {},
   "outputs": [
    {
     "name": "stdout",
     "output_type": "stream",
     "text": "The book is interesting!\nThe book is boring!\nhihihi\nhahahi\n"
    }
   ],
   "source": [
    "# str.replace(old,new,count)：修改字符串，count：更换几个\n",
    "st3 = \"The book is interesting!\"\n",
    "st4 = st3.replace('interesting','boring')\n",
    "print(st3)\n",
    "print(st4)\n",
    "\n",
    "st5 = 'hihihi'\n",
    "st6 = st5.replace('hi','ha',2)\n",
    "print(st5)\n",
    "print(st6)"
   ]
  },
  {
   "cell_type": "code",
   "execution_count": 12,
   "metadata": {},
   "outputs": [
    {
     "name": "stdout",
     "output_type": "stream",
     "text": "['name01', 'score', '90.12']\n"
    }
   ],
   "source": [
    "# str.split(obj)：拆分字符串，生成列表\n",
    "st7 = \"name01,score,90.12\"\n",
    "lst1 = st7.split(',')\n",
    "print(lst1)"
   ]
  },
  {
   "cell_type": "code",
   "execution_count": 13,
   "metadata": {},
   "outputs": [
    {
     "name": "stdout",
     "output_type": "stream",
     "text": "name01-score-90.12\n"
    }
   ],
   "source": [
    "# str.join()：连接字符串，对象为列表\n",
    "lst2 = ['name01', 'score', '90.12']\n",
    "m = '-'\n",
    "st8 = m.join(lst2)\n",
    "print(st8)"
   ]
  },
  {
   "cell_type": "code",
   "execution_count": 14,
   "metadata": {},
   "outputs": [
    {
     "name": "stdout",
     "output_type": "stream",
     "text": "True True\nFalse False\n"
    }
   ],
   "source": [
    "# str.startswith(“str”)  判断是否以“str”开头；str.endswith (“str”)  判断是否以“str”结尾\n",
    "st9 = 'abcdefghijk'\n",
    "print(st9.startswith('a'), st9.endswith('k'))\n",
    "print(st9.startswith('b'), st9.endswith('h'))"
   ]
  },
  {
   "cell_type": "code",
   "execution_count": 15,
   "metadata": {},
   "outputs": [
    {
     "name": "stdout",
     "output_type": "stream",
     "text": "ABCDEAJ KJLM\nabcdeaj kjlm\nAbCdeaJ KJlm\nAbcdeaj kjlm\n"
    }
   ],
   "source": [
    "st10 = 'aBcDEAj kjLM'\n",
    "print(st10.upper())  # 全部大写\n",
    "print(st10.lower())  # 全部小写\n",
    "print(st10.swapcase())  # 大小写互换\n",
    "print(st10.capitalize())  # 首字母大写"
   ]
  },
  {
   "cell_type": "code",
   "execution_count": 16,
   "metadata": {},
   "outputs": [
    {
     "name": "stdout",
     "output_type": "stream",
     "text": "True\nFalse\n"
    }
   ],
   "source": [
    "# 如果 string 只包含数字则返回 True,否则返回 False.\n",
    "st11 = '1234567890'\n",
    "print(st11.isnumeric())\n",
    "st12 = '1234abcd'\n",
    "print(st12.isnumeric())"
   ]
  },
  {
   "cell_type": "code",
   "execution_count": 17,
   "metadata": {},
   "outputs": [
    {
     "name": "stdout",
     "output_type": "stream",
     "text": "True\nFalse\n"
    }
   ],
   "source": [
    "# 如果 string 至少有一个字符并且所有字符都是字母则返回 True,否则返回 False\n",
    "st13 = 'HAPPY'\n",
    "print(st13.isalpha())\n",
    "st14 = 'happy12345'\n",
    "print(st14.isalpha())"
   ]
  },
  {
   "cell_type": "code",
   "execution_count": 18,
   "metadata": {},
   "outputs": [
    {
     "name": "stdout",
     "output_type": "stream",
     "text": "Happy\n"
    }
   ],
   "source": [
    "# 删除字符末尾的空格\n",
    "st15 = 'Happy   '\n",
    "print(st15.rstrip())"
   ]
  },
  {
   "cell_type": "markdown",
   "execution_count": null,
   "metadata": {},
   "outputs": [],
   "source": [
    "## 格式化字符"
   ]
  },
  {
   "cell_type": "markdown",
   "execution_count": null,
   "metadata": {},
   "outputs": [],
   "source": [
    "### 格式化字符：在字符串中插入变量"
   ]
  },
  {
   "cell_type": "code",
   "execution_count": 19,
   "metadata": {},
   "outputs": [
    {
     "name": "stdout",
     "output_type": "stream",
     "text": "Tom is 好人\n"
    }
   ],
   "source": [
    "name = \"Tom\"\n",
    "st16 = \"%s is 好人\" %name\n",
    "print(st16)\n",
    "# %s 表示我们这里要插入一个变量（字符串）\n",
    "# %name 代表这里我们插入name"
   ]
  },
  {
   "cell_type": "code",
   "execution_count": 20,
   "metadata": {},
   "outputs": [
    {
     "name": "stdout",
     "output_type": "stream",
     "text": "this is 4\nthis is hello\nthis is 3.140000\n"
    }
   ],
   "source": [
    "x = 4   \n",
    "y = \"hello\"  \n",
    "z = 3.14\n",
    "print(\"this is %i\" %x)\n",
    "print(\"this is %s\" %y)\n",
    "print(\"this is %f\" %z)\n",
    "# %s中的s的含义：%s %z %f都是格式化字符串，s/i/f分别代表插入字符串的源数据类型：整型/字符型/浮点型"
   ]
  },
  {
   "cell_type": "markdown",
   "execution_count": null,
   "metadata": {},
   "outputs": [],
   "source": [
    "### 格式化字符：数字格式化的那些坑"
   ]
  },
  {
   "cell_type": "code",
   "execution_count": 21,
   "metadata": {},
   "outputs": [
    {
     "name": "stdout",
     "output_type": "stream",
     "text": "pi is 3.141593\npi is 3.14\n"
    }
   ],
   "source": [
    "# 输出2位小数:%.2f，此处四舍五入！\n",
    "m = 3.1415926\n",
    "print(\"pi is %f\"  %m)\n",
    "print(\"pi is %.2f\" %m)"
   ]
  },
  {
   "cell_type": "code",
   "execution_count": 22,
   "metadata": {},
   "outputs": [
    {
     "name": "stdout",
     "output_type": "stream",
     "text": "number is 13\nnumber is 14\n"
    }
   ],
   "source": [
    "# 区别：%i 不四舍五入，直接切掉小数部分\n",
    "m1 = 13.6\n",
    "print(\"number is %i\"  %m1)\n",
    "print(\"number is %.0f\" %m1)"
   ]
  },
  {
   "cell_type": "code",
   "execution_count": 23,
   "metadata": {},
   "outputs": [
    {
     "name": "stdout",
     "output_type": "stream",
     "text": "Game score +10\nGame score -0.01\n"
    }
   ],
   "source": [
    "# 显示正号，负号根据数字直接显示\n",
    "m2 = 10\n",
    "print(\"Game score %+i\"  %m2)\n",
    "print(\"Game score %.2f\"  % -0.01)"
   ]
  },
  {
   "cell_type": "code",
   "execution_count": 24,
   "metadata": {},
   "outputs": [
    {
     "name": "stdout",
     "output_type": "stream",
     "text": "Game score  10\nGame score +10\nGame score -0.01\n"
    }
   ],
   "source": [
    "# 加空格，空格和正好只能显示一个\n",
    "m3 = 10 \n",
    "print(\"Game score % i\"  %m3)\n",
    "print(\"Game score % +i\"  %m3)\n",
    "print(\"Game score % .2f\"  %-0.01)"
   ]
  },
  {
   "cell_type": "code",
   "execution_count": 25,
   "metadata": {},
   "outputs": [
    {
     "name": "stdout",
     "output_type": "stream",
     "text": "Game score 3.14e+00\nGame score 3.1416E+00\n"
    }
   ],
   "source": [
    "# 科学计数法 %e  %E\n",
    "m4 = 3.1415926 \n",
    "print(\"Game score %.2e\"  %m4)\n",
    "print(\"Game score %.4E\"  %m4)"
   ]
  },
  {
   "cell_type": "code",
   "execution_count": 26,
   "metadata": {},
   "outputs": [
    {
     "name": "stdout",
     "output_type": "stream",
     "text": "Game score 3.14159\nGame score 3.1\n"
    }
   ],
   "source": [
    "m5 = 3.1415926535\n",
    "m6 = 3.1\n",
    "print(\"Game score %g\"  %m5)\n",
    "print(\"Game score %g\"  %m6)\n",
    "# 小数位数少的时候自动识别用浮点数，数据复杂的时候自动识别用科学计数法"
   ]
  }
 ]
}