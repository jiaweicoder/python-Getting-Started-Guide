{
 "nbformat": 4,
 "nbformat_minor": 2,
 "metadata": {
  "language_info": {
   "name": "python",
   "codemirror_mode": {
    "name": "ipython",
    "version": 3
   },
   "version": "3.7.4-final"
  },
  "orig_nbformat": 2,
  "file_extension": ".py",
  "mimetype": "text/x-python",
  "name": "python",
  "npconvert_exporter": "python",
  "pygments_lexer": "ipython3",
  "version": 3,
  "kernelspec": {
   "name": "python37464bitpytorchcondadba5b8d482fb49e9a843bab88f901f7d",
   "display_name": "Python 3.7.4 64-bit ('pytorch': conda)"
  }
 },
 "cells": [
  {
   "cell_type": "markdown",
   "execution_count": null,
   "metadata": {},
   "outputs": [],
   "source": [
    "# Day 13 科学计算库Numpy的常用函数(二)"
   ]
  },
  {
   "cell_type": "code",
   "execution_count": 1,
   "metadata": {},
   "outputs": [],
   "source": [
    "import numpy as np\n",
    "# 导入模块"
   ]
  },
  {
   "cell_type": "markdown",
   "execution_count": null,
   "metadata": {},
   "outputs": [],
   "source": [
    "## 1、Numpy中数组堆叠"
   ]
  },
  {
   "cell_type": "markdown",
   "metadata": {},
   "source": [
    "### numpy.hstack(tup)：水平（按列顺序）堆叠数组"
   ]
  },
  {
   "cell_type": "code",
   "execution_count": 2,
   "metadata": {},
   "outputs": [
    {
     "name": "stdout",
     "output_type": "stream",
     "text": "[0 1 2 3 4] (5,)\n[5 6 7 8] (4,)\n[0 1 2 3 4 5 6 7 8] (9,)\n"
    }
   ],
   "source": [
    "a1 = np.arange(5)        # a1为一维数组，5个元素\n",
    "b1 = np.arange(5,9)      # b1为一维数组,4个元素\n",
    "ar1 = np.hstack((a1,b1))  # 注意:((a1,b1))，这里形状可以不一样\n",
    "print(a1,a1.shape)\n",
    "print(b1,b1.shape)\n",
    "print(ar1,ar1.shape)"
   ]
  },
  {
   "cell_type": "code",
   "execution_count": 3,
   "metadata": {},
   "outputs": [
    {
     "name": "stdout",
     "output_type": "stream",
     "text": "[[0]\n [1]\n [2]] (3, 1)\n[['a']\n ['b']\n ['c']] (3, 1)\n[['0' 'a']\n ['1' 'b']\n ['2' 'c']] (3, 2)\n"
    }
   ],
   "source": [
    "a2 = np.array([[0],[1],[2]])        # a2为二维数组，3行1列\n",
    "b2 = np.array([['a'],['b'],['c']])  # b2为二维数组，3行1列\n",
    "ar2 = np.hstack((a2,b2))             # 注意:((a2,b2))，这里形状必须一样\n",
    "print(a2,a2.shape)\n",
    "print(b2,b2.shape)\n",
    "print(ar2,ar2.shape)"
   ]
  },
  {
   "cell_type": "markdown",
   "metadata": {},
   "source": [
    "### numpy.vstack(tup)：垂直（按列顺序）堆叠数组"
   ]
  },
  {
   "cell_type": "code",
   "execution_count": 4,
   "metadata": {},
   "outputs": [
    {
     "name": "stdout",
     "output_type": "stream",
     "text": "[0 1 2 3 4] (5,)\n[5 6 7 8 9] (5,)\n[[0 1 2 3 4]\n [5 6 7 8 9]] (2, 5)\n"
    }
   ],
   "source": [
    "a3 = np.arange(5)      # a3为一维数组，5个元素\n",
    "b3 = np.arange(5,10)   # b3为一维数组,4个元素\n",
    "ar3 = np.vstack((a3,b3))\n",
    "print(a3,a3.shape)\n",
    "print(b3,b3.shape)\n",
    "print(ar3,ar3.shape)"
   ]
  },
  {
   "cell_type": "code",
   "execution_count": 5,
   "metadata": {},
   "outputs": [
    {
     "name": "stdout",
     "output_type": "stream",
     "text": "[[0]\n [1]\n [2]] (3, 1)\n[['a']\n ['b']\n ['c']\n ['d']] (4, 1)\n[['0']\n ['1']\n ['2']\n ['a']\n ['b']\n ['c']\n ['d']] (7, 1)\n"
    }
   ],
   "source": [
    "a4 = np.array([[0],[1],[2]])              # a4为二维数组，3行1列\n",
    "b4 = np.array([['a'],['b'],['c'],['d']])  # b4为二维数组，4行1列 \n",
    "ar4 = np.vstack((a4,b4))                  # 这里形状可以不一样\n",
    "print(a4,a4.shape)\n",
    "print(b4,b4.shape)\n",
    "print(ar4,ar4.shape)"
   ]
  },
  {
   "cell_type": "markdown",
   "metadata": {},
   "source": [
    "### numpy.stack(arrays, axis=0)：沿着新轴连接数组的序列，形状必须一样！"
   ]
  },
  {
   "cell_type": "code",
   "execution_count": 6,
   "metadata": {},
   "outputs": [
    {
     "name": "stdout",
     "output_type": "stream",
     "text": "[0 1 2 3 4] (5,)\n[5 6 7 8 9] (5,)\n[[0 1 2 3 4]\n [5 6 7 8 9]] (2, 5)\n[[0 5]\n [1 6]\n [2 7]\n [3 8]\n [4 9]] (5, 2)\n"
    }
   ],
   "source": [
    "a5 = np.arange(5)    \n",
    "b5 = np.arange(5,10)\n",
    "ar5_1 = np.stack((a5,b5))\n",
    "ar5_2 = np.stack((a5,b5),axis = 1)\n",
    "print(a5,a5.shape)\n",
    "print(b5,b5.shape)\n",
    "print(ar5_1,ar5_1.shape)\n",
    "print(ar5_2,ar5_2.shape)\n",
    "# axis参数：假设两个数组[1 2 3]和[4 5 6]，shape均为(3,0)，默认axis等于0\n",
    "# axis=0：[[1 2 3] [4 5 6]]，shape为(2,3)\n",
    "# axis=1：[[1 4] [2 5] [3 6]]，shape为(3,2)"
   ]
  },
  {
   "cell_type": "markdown",
   "execution_count": null,
   "metadata": {},
   "outputs": [],
   "source": [
    "## 2、Numpy中数组拆分"
   ]
  },
  {
   "cell_type": "markdown",
   "metadata": {},
   "source": [
    "### numpy.hsplit(ary, indices_or_sections)：将数组水平（逐列）拆分为多个子数组——按列拆分"
   ]
  },
  {
   "cell_type": "code",
   "execution_count": 7,
   "metadata": {},
   "outputs": [
    {
     "name": "stdout",
     "output_type": "stream",
     "text": "[[ 0  1  2  3]\n [ 4  5  6  7]\n [ 8  9 10 11]\n [12 13 14 15]]\n[array([[ 0,  1],\n       [ 4,  5],\n       [ 8,  9],\n       [12, 13]]), array([[ 2,  3],\n       [ 6,  7],\n       [10, 11],\n       [14, 15]])] <class 'list'>\n"
    }
   ],
   "source": [
    "ar6 = np.arange(16).reshape(4,4)\n",
    "ar7 = np.hsplit(ar6,2)\n",
    "print(ar6)\n",
    "print(ar7,type(ar7))\n",
    "# 输出结果为列表，列表中元素为数组"
   ]
  },
  {
   "cell_type": "markdown",
   "metadata": {},
   "source": [
    "### numpy.vsplit(ary, indices_or_sections)：将数组垂直（行方向）拆分为多个子数组——按行拆"
   ]
  },
  {
   "cell_type": "code",
   "execution_count": 8,
   "metadata": {},
   "outputs": [
    {
     "name": "stdout",
     "output_type": "stream",
     "text": "[[ 0  1  2  3]\n [ 4  5  6  7]\n [ 8  9 10 11]\n [12 13 14 15]]\n[array([[0, 1, 2, 3]]), array([[4, 5, 6, 7]]), array([[ 8,  9, 10, 11]]), array([[12, 13, 14, 15]])] <class 'list'>\n"
    }
   ],
   "source": [
    "ar8 = np.arange(16).reshape(4,4)\n",
    "ar9 = np.vsplit(ar8,4)\n",
    "print(ar8)\n",
    "print(ar9,type(ar9))"
   ]
  },
  {
   "cell_type": "markdown",
   "execution_count": null,
   "metadata": {},
   "outputs": [],
   "source": [
    "## 3、Numpy中数组简单运算"
   ]
  },
  {
   "cell_type": "code",
   "execution_count": 9,
   "metadata": {},
   "outputs": [
    {
     "name": "stdout",
     "output_type": "stream",
     "text": "[[0 1 2]\n [3 4 5]]\n"
    }
   ],
   "source": [
    "ar = np.arange(6).reshape(2,3)\n",
    "print(ar)"
   ]
  },
  {
   "cell_type": "code",
   "execution_count": 10,
   "metadata": {},
   "outputs": [
    {
     "name": "stdout",
     "output_type": "stream",
     "text": "[[10 11 12]\n [13 14 15]]\n[[ 0  2  4]\n [ 6  8 10]]\n[[1.         0.5        0.33333333]\n [0.25       0.2        0.16666667]]\n[[0.         1.         1.41421356]\n [1.73205081 2.         2.23606798]]\n"
    }
   ],
   "source": [
    "# 与标量的运算\n",
    "\n",
    "print(ar + 10)   # 加法\n",
    "print(ar * 2)   # 乘法\n",
    "print(1 / (ar+1))  # 除法\n",
    "print(ar ** 0.5)  # 幂"
   ]
  },
  {
   "cell_type": "code",
   "execution_count": 11,
   "metadata": {},
   "outputs": [
    {
     "name": "stdout",
     "output_type": "stream",
     "text": "2.5\n5\n0\n1.707825127659933\n2.9166666666666665\n15 [3 5 7]\n[1 2 3 4 5 6]\n"
    }
   ],
   "source": [
    "# 常用函数\n",
    "\n",
    "print(ar.mean())  # 求平均值\n",
    "print(ar.max())  # 求最大值\n",
    "print(ar.min())  # 求最小值\n",
    "print(ar.std())  # 求标准差\n",
    "print(ar.var())  # 求方差\n",
    "print(ar.sum(), np.sum(ar,axis = 0))  # 求和，np.sum()：axis为0，按列求和；axis为1，按行求和\n",
    "print(np.sort(np.array([1,4,3,2,5,6])))  # 排序"
   ]
  }
 ]
}