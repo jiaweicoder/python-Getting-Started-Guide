{
 "nbformat": 4,
 "nbformat_minor": 2,
 "metadata": {
  "language_info": {
   "name": "python",
   "codemirror_mode": {
    "name": "ipython",
    "version": 3
   },
   "version": "3.7.3-final"
  },
  "orig_nbformat": 2,
  "file_extension": ".py",
  "mimetype": "text/x-python",
  "name": "python",
  "npconvert_exporter": "python",
  "pygments_lexer": "ipython3",
  "version": 3,
  "kernelspec": {
   "name": "python37364bitbasecondaabad9ebff4c14cdbaa066c9205fa3975",
   "display_name": "Python 3.7.3 64-bit ('base': conda)"
  }
 },
 "cells": [
  {
   "cell_type": "markdown",
   "execution_count": null,
   "metadata": {},
   "outputs": [],
   "source": [
    "# Day 04 字典"
   ]
  },
  {
   "cell_type": "markdown",
   "execution_count": null,
   "metadata": {},
   "outputs": [],
   "source": [
    "## 1、字典的一些基本概念"
   ]
  },
  {
   "cell_type": "markdown",
   "execution_count": null,
   "metadata": {},
   "outputs": [],
   "source": [
    "* 字典(dict)是一种可变的容器模型，可以存储任意类型的对象。\n",
    "* 字典的每个键值(key—value)对用冒号(:)分割，每个键值对之间用逗号(,)分割，整个字典应该被包括在一个大括号({})中 \n",
    "* 键(key)必须是唯一的，但值(value)则不一定要求是唯一的。"
   ]
  },
  {
   "cell_type": "code",
   "execution_count": 1,
   "metadata": {},
   "outputs": [
    {
     "name": "stdout",
     "output_type": "stream",
     "text": "{'小明': 97, '小红': 95, '小王': 87} <class 'dict'>\n"
    }
   ],
   "source": [
    "dic1 = {'小明': 97, '小红': 95, '小王':87}\n",
    "print(dic1,type(dic1))\n",
    "# 这里的dic就是一个字典类型的变量\n",
    "# 用{}来表示字典，按照key：value来表示字典中的元素，其中key是键，value是值，key-value也就是键值对"
   ]
  },
  {
   "cell_type": "code",
   "execution_count": 2,
   "metadata": {},
   "outputs": [
    {
     "name": "stdout",
     "output_type": "stream",
     "text": "[{'name': 'Tom', 'score': 85}, {'name': 'Jack', 'score': 96}, {'name': 'Jerry', 'score': 97}] <class 'list'>\n"
    }
   ],
   "source": [
    "dic2 = [{'name':'Tom', 'score':85},{'name':'Jack', 'score':96},{'name':'Jerry', \"score\":97}]\n",
    "print(dic2,type(dic2))\n",
    "# 创建一个以字典为元素的“列表”"
   ]
  },
  {
   "cell_type": "markdown",
   "execution_count": null,
   "metadata": {},
   "outputs": [],
   "source": [
    "## 2、字典的一些基本特点"
   ]
  },
  {
   "cell_type": "markdown",
   "execution_count": null,
   "metadata": {},
   "outputs": [],
   "source": [
    "* 键值对，键与值，一定要同时出现，不能只出现一个\n",
    "* 同一个键不允许出现两次：创建时如果同一个键被赋值了两次，只有后一个值才会被记住\n",
    "* key必须是不可变的对象，value则可以是任意对象：数值，字符串，序列，字典\n",
    "* 序列有顺序，字典没有！字典是一个无序集合,序列由于没有key来做对应，所以按顺序来对应相应的值"
   ]
  },
  {
   "cell_type": "code",
   "execution_count": 3,
   "metadata": {},
   "outputs": [
    {
     "name": "stdout",
     "output_type": "stream",
     "text": "{'Tom': 92} <class 'dict'>\n"
    }
   ],
   "source": [
    "dic3 = {'Tom':97,'Tom':92}\n",
    "print(dic3,type(dic3))"
   ]
  },
  {
   "cell_type": "code",
   "execution_count": 4,
   "metadata": {},
   "outputs": [
    {
     "name": "stdout",
     "output_type": "stream",
     "text": "{'var1': 3.14, 'var2': 'hello world', 'var3': [0, 1, 2, 3], 'var4': {'Tom': 91, 'Jerry': 92}} <class 'dict'>\n"
    }
   ],
   "source": [
    "dic4 = {'var1':3.14, 'var2':'hello world', 'var3':[0,1,2,3], 'var4':{'Tom':91,'Jerry':92}}\n",
    "print(dic4,type(dic4))"
   ]
  },
  {
   "cell_type": "code",
   "execution_count": 5,
   "metadata": {},
   "outputs": [
    {
     "name": "stdout",
     "output_type": "stream",
     "text": "{'var1': 3.14, 'var2': 'hello world', 'var3': [0, 1, 2, 3], 'var4': {'Tom': 91, 'Jerry': 92}}\n{'var1': 3.14, 'var2': 'hello world', 'var3': [0, 1, 2, 3], 'var4': {'Tom': 91, 'Jerry': 92}, 'var5': '添加一个值'}\n{'var1': 3.14, 'var2': 'hello world', 'var3': [0, 1, 2, 3], 'var4': '任意修改其中一个值', 'var5': '添加一个值'}\n{'var2': 'hello world', 'var3': [0, 1, 2, 3], 'var4': '任意修改其中一个值', 'var5': '添加一个值'}\n{}\n"
    }
   ],
   "source": [
    "dic5 = {'var1':3.14, 'var2':'hello world', 'var3':[0,1,2,3], 'var4':{'Tom':91,'Jerry':92}}\n",
    "print(dic5)\n",
    "dic5['var5'] = '添加一个值'  # 任意添加元素\n",
    "print(dic5)\n",
    "dic5['var4'] = '任意修改其中一个值'  # 任意修改元素\n",
    "print(dic5)\n",
    "del dic5['var1']  # 任意删除元素\n",
    "print(dic5)\n",
    "dic5.clear()  # 清空词典所有条目\n",
    "print(dic5)\n",
    "del dic5  # 删除词典\n",
    "#删除词典后，不能再print(dic5)"
   ]
  },
  {
   "cell_type": "markdown",
   "execution_count": null,
   "metadata": {},
   "outputs": [],
   "source": [
    "## 3、申明一个字典的几种常用方法"
   ]
  },
  {
   "cell_type": "code",
   "execution_count": 6,
   "metadata": {},
   "outputs": [
    {
     "name": "stdout",
     "output_type": "stream",
     "text": "{'name': 'Tom', 'score': 98} <class 'dict'>\n"
    }
   ],
   "source": [
    "# 最简单直接的声明字典的方式，手动书写申明一个字典变量，注意{}中键值之间是“：”而不是“=”\n",
    "dic6 = {'name':'Tom','score':98}\n",
    "print(dic6,type(dic6))"
   ]
  },
  {
   "cell_type": "code",
   "execution_count": 7,
   "metadata": {},
   "outputs": [
    {
     "name": "stdout",
     "output_type": "stream",
     "text": "{'m': 3.14, 'n': 'hello', 'p': [0, 1, 2, 3]} <class 'dict'>\n"
    }
   ],
   "source": [
    "# 利用dict()函数\n",
    "dic7 = dict(m = 3.14 ,n = 'hello', p = [0,1,2,3])\n",
    "print(dic7,type(dic7))"
   ]
  },
  {
   "cell_type": "code",
   "execution_count": 8,
   "metadata": {},
   "outputs": [
    {
     "name": "stdout",
     "output_type": "stream",
     "text": "{'a': 'hello', 'b': 'world'}\n{'c': 0, 'd': 1}\n{'e': [0, 1], 'f': [2, 3]}\n"
    }
   ],
   "source": [
    "# dict()可以是由序列生成一个字典，嵌套的序列，即可以是list，也可以是tuple\n",
    "lst1=[(\"a\",\"hello\"),(\"b\",\"world\")]\n",
    "lst2=[[\"c\",0],[\"d\",1]]\n",
    "lst3=((\"e\",[0,1]),(\"f\",[2,3]))\n",
    "dic8 = dict(lst1)\n",
    "dic9 = dict(lst2)\n",
    "dic10 = dict(lst3)\n",
    "print(dic8)\n",
    "print(dic9)\n",
    "print(dic10)"
   ]
  },
  {
   "cell_type": "code",
   "execution_count": 9,
   "metadata": {},
   "outputs": [
    {
     "name": "stdout",
     "output_type": "stream",
     "text": "{'a': None, 'b': None, 'c': None}\n{'a': 'hello', 'b': 'hello', 'c': 'hello'}\n"
    }
   ],
   "source": [
    "# 只有key，利用.fromkeys直接生成一个字典\n",
    "keys = [\"a\", \"b\", \"c\"]\n",
    "dic11 = dict.fromkeys(keys)\n",
    "dic12 = dict.fromkeys(keys, 'hello')\n",
    "print(dic11)\n",
    "print(dic12)"
   ]
  },
  {
   "cell_type": "markdown",
   "execution_count": null,
   "metadata": {},
   "outputs": [],
   "source": [
    "## 4、字典常用操作\n",
    "\n",
    "字典的一些常用的内置函数及方法"
   ]
  },
  {
   "cell_type": "markdown",
   "execution_count": null,
   "metadata": {},
   "outputs": [],
   "source": [
    "### dict.update()方法：更新/合并一个字典，把第二个字典合并到第一个字典，同时也改变了第一个字典"
   ]
  },
  {
   "cell_type": "code",
   "execution_count": 10,
   "metadata": {},
   "outputs": [
    {
     "name": "stdout",
     "output_type": "stream",
     "text": "{'a': 0, 'b': 1}\n{'a': 0, 'b': 1, 'c': 2, 'd': 3}\n{'c': 2, 'd': 3}\n"
    }
   ],
   "source": [
    "dic13 = {\"a\":0, \"b\":1}\n",
    "dic14 = {\"c\":2, \"d\":3}\n",
    "print(dic13)\n",
    "dic13.update(dic14)\n",
    "print(dic13)\n",
    "print(dic14)"
   ]
  },
  {
   "cell_type": "code",
   "execution_count": 11,
   "metadata": {},
   "outputs": [
    {
     "name": "stdout",
     "output_type": "stream",
     "text": "{'m': 0, 'n': 1, 'p': 2}\n{'m': 0, 'n': 1, 'p': 2, 'q': 3}\n{'m': 0, 'n': 1, 'p': 2, 'q': 3}\n"
    }
   ],
   "source": [
    "dic15 = {'m':0 , 'n':1 , 'p':2}\n",
    "dic16 = dic15\n",
    "print(dic16)\n",
    "dic15.update({'q':3})\n",
    "print(dic15)\n",
    "print(dic16)\n",
    "# 和序列的原理一样，a和b指向同一个字典，所以会一起更新"
   ]
  },
  {
   "cell_type": "markdown",
   "execution_count": null,
   "metadata": {},
   "outputs": [],
   "source": [
    "### dict.copy()方法，用来复制一个新的字典"
   ]
  },
  {
   "cell_type": "code",
   "execution_count": 12,
   "metadata": {},
   "outputs": [
    {
     "name": "stdout",
     "output_type": "stream",
     "text": "{'m': 0, 'n': 1, 'p': 2}\n{'m': 0, 'n': 1, 'p': 2, 'q': 3}\n{'m': 0, 'n': 1, 'p': 2}\n"
    }
   ],
   "source": [
    "dic17 = {'m':0 , 'n':1 , 'p':2}\n",
    "dic18 = dic17.copy()\n",
    "print(dic18)\n",
    "dic17.update({'q':3})\n",
    "print(dic17)\n",
    "print(dic18)"
   ]
  },
  {
   "cell_type": "markdown",
   "execution_count": null,
   "metadata": {},
   "outputs": [],
   "source": [
    "### len(dict)函数，查看字典元素个数"
   ]
  },
  {
   "cell_type": "code",
   "execution_count": 13,
   "metadata": {},
   "outputs": [
    {
     "name": "stdout",
     "output_type": "stream",
     "text": "3\n"
    }
   ],
   "source": [
    "dic19 = {'m':0 , 'n':1 , 'p':2}\n",
    "print(len(dic19))"
   ]
  },
  {
   "cell_type": "markdown",
   "execution_count": null,
   "metadata": {},
   "outputs": [],
   "source": [
    "### in / not in ：用来判断是否包含该元素(这里的判断对象是key)"
   ]
  },
  {
   "cell_type": "code",
   "execution_count": 14,
   "metadata": {},
   "outputs": [
    {
     "name": "stdout",
     "output_type": "stream",
     "text": "True\nFalse\n"
    }
   ],
   "source": [
    "dic20 = {'m':0 , 'n':1 , 'p':2}\n",
    "print('m' in dic20)\n",
    "print(1 in dic20)"
   ]
  },
  {
   "cell_type": "markdown",
   "execution_count": null,
   "metadata": {},
   "outputs": [],
   "source": [
    "## 5、字典的元素访问及遍历"
   ]
  },
  {
   "cell_type": "markdown",
   "execution_count": null,
   "metadata": {},
   "outputs": [],
   "source": [
    "### 几种常见的字典的元素访问函数与方法"
   ]
  },
  {
   "cell_type": "code",
   "execution_count": 15,
   "metadata": {},
   "outputs": [
    {
     "name": "stdout",
     "output_type": "stream",
     "text": "0\n"
    }
   ],
   "source": [
    "dic21 = {'a':0, \"b\":1, \"c\":2}\n",
    "print(dic21['a'])\n",
    "# 不能用序列的索引方式，即不能使用print(dic21[1])"
   ]
  },
  {
   "cell_type": "code",
   "execution_count": 16,
   "metadata": {},
   "outputs": [
    {
     "name": "stdout",
     "output_type": "stream",
     "text": "somewhere\n"
    }
   ],
   "source": [
    "dic22 = {'name':'Tom', 'score':95, 'information':{'address':'somewhere', 'num':31415926}}\n",
    "print(dic22['information']['address'])\n",
    "# 对于嵌套字典，输出嵌套内容，通过重复指向来输出"
   ]
  },
  {
   "cell_type": "code",
   "execution_count": 17,
   "metadata": {},
   "outputs": [
    {
     "name": "stdout",
     "output_type": "stream",
     "text": "Tom\nnothing\nNone\n"
    }
   ],
   "source": [
    "# .get(key)方法：直接查看key的value，如果没有相应key，则返回None，添加print参数可以多返回一个值\n",
    "dic23 = {'name':'Tom', 'score':95, 'information':{'address':'somewhere', 'num':31415926}}\n",
    "print(dic23.get('name'))\n",
    "print(dic23.get('type',print('nothing')))"
   ]
  },
  {
   "cell_type": "code",
   "execution_count": 18,
   "metadata": {},
   "outputs": [
    {
     "name": "stdout",
     "output_type": "stream",
     "text": "dict_keys(['name', 'score', 'information'])\n<class 'dict_keys'>\n['name', 'score', 'information']\n"
    }
   ],
   "source": [
    "# .keys()方法：输出字典所有的key，注意这里的输出内容格式是视图，可以用list()得到key的列表，类似range()\n",
    "dic24 = {'name':'Tom', 'score':95, 'information':{'address':'somewhere', 'num':31415926}}\n",
    "print(dic24.keys())\n",
    "print(type(dic24.keys()))\n",
    "print(list(dic24.keys()))"
   ]
  },
  {
   "cell_type": "code",
   "execution_count": 20,
   "metadata": {},
   "outputs": [
    {
     "name": "stdout",
     "output_type": "stream",
     "text": "dict_values(['Tom', 95, {'address': 'somewhere', 'num': 31415926}])\n<class 'dict_values'>\n['Tom', 95, {'address': 'somewhere', 'num': 31415926}]\n"
    }
   ],
   "source": [
    "# .values()方法：输出字典所有values，原理同.keys()方法\n",
    "dic25 = {'name':'Tom', 'score':95, 'information':{'address':'somewhere', 'num':31415926}}\n",
    "print(dic25.values())\n",
    "print(type(dic25.values()))\n",
    "print(list(dic25.values()))"
   ]
  },
  {
   "cell_type": "code",
   "execution_count": 19,
   "metadata": {},
   "outputs": [
    {
     "name": "stdout",
     "output_type": "stream",
     "text": "dict_items([('name', 'Tom'), ('score', 95), ('information', {'address': 'somewhere', 'num': 31415926})])\n<class 'dict_items'>\n[('name', 'Tom'), ('score', 95), ('information', {'address': 'somewhere', 'num': 31415926})]\n"
    }
   ],
   "source": [
    "# .items()方法：输出字典所有items（元素），原理同.keys()方法\n",
    "dic26 = {'name':'Tom', 'score':95, 'information':{'address':'somewhere', 'num':31415926}}\n",
    "print(dic26.items())\n",
    "print(type(dic26.items()))\n",
    "print(list(dic26.items()))"
   ]
  },
  {
   "cell_type": "code",
   "execution_count": 21,
   "metadata": {},
   "outputs": [
    {
     "name": "stdout",
     "output_type": "stream",
     "text": "name\nscore\ninformation\n-------\nTom\n95\n{'address': 'somewhere', 'num': 31415926}\n-------\nkey为 name, value为 Tom\nkey为 score, value为 95\nkey为 information, value为 {'address': 'somewhere', 'num': 31415926}\n-------\n"
    }
   ],
   "source": [
    "# 字典的元素遍历\n",
    "\n",
    "dic = {'name':'Tom', 'score':95, 'information':{'address':'somewhere', 'num':31415926}}\n",
    "for key in dic.keys():\n",
    "    print(key)\n",
    "print('-------')\n",
    "\n",
    "for value in dic.values():\n",
    "    print(value)\n",
    "print('-------')\n",
    "\n",
    "for (k,v) in dic.items():\n",
    "    print('key为 %s, value为 %s' %(k,v))\n",
    "print('-------')  \n",
    "# 用for函数进行遍历"
   ]
  }
 ]
}